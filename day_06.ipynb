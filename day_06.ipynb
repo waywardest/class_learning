{
 "cells": [
  {
   "cell_type": "code",
   "execution_count": 11,
   "id": "7766b98f",
   "metadata": {},
   "outputs": [
    {
     "name": "stdout",
     "output_type": "stream",
     "text": [
      "Hello, world! I am Zhang.\n",
      "Hello, world! I am Li.\n"
     ]
    }
   ],
   "source": [
    "class Person:\n",
    "    def set_name(self, name):\n",
    "        self.name = name\n",
    "    \n",
    "    def get_name(self):\n",
    "        return name\n",
    "    \n",
    "    def greet(self):\n",
    "        print(f'Hello, world! I am {self.name}.')\n",
    "\n",
    "zs = Person()\n",
    "zs.set_name('Zhang')\n",
    "zs.greet()\n",
    "\n",
    "ls = Person()\n",
    "ls.set_name('Li')\n",
    "ls.greet()"
   ]
  },
  {
   "cell_type": "code",
   "execution_count": 12,
   "id": "efd663b4",
   "metadata": {},
   "outputs": [
    {
     "name": "stdout",
     "output_type": "stream",
     "text": [
      "Hello, world! I am Zhang.\n"
     ]
    }
   ],
   "source": [
    "Person.greet(zs)"
   ]
  },
  {
   "cell_type": "code",
   "execution_count": 20,
   "id": "4fa2eeb8",
   "metadata": {},
   "outputs": [
    {
     "name": "stdout",
     "output_type": "stream",
     "text": [
      "Hello, world! I am Zhang.\n"
     ]
    }
   ],
   "source": [
    "class Person:\n",
    "    def __init__(self, name=''):\n",
    "       # self.name = name\n",
    "        self.set_name(name)\n",
    "        \n",
    "    def set_name(self, name):\n",
    "        self.name = name\n",
    "    \n",
    "    def get_name(self):\n",
    "        return name\n",
    "    \n",
    "    def greet(self):\n",
    "        print(f'Hello, world! I am {self.name}.')\n",
    "        \n",
    "zs = Person('Zhang')\n",
    "zs.greet()"
   ]
  },
  {
   "cell_type": "code",
   "execution_count": 14,
   "id": "d2408565",
   "metadata": {},
   "outputs": [],
   "source": [
    "ls = Person()"
   ]
  },
  {
   "cell_type": "code",
   "execution_count": 15,
   "id": "982acb30",
   "metadata": {},
   "outputs": [
    {
     "data": {
      "text/plain": [
       "'Li'"
      ]
     },
     "execution_count": 15,
     "metadata": {},
     "output_type": "execute_result"
    }
   ],
   "source": [
    "ls.set_name('Li')\n",
    "ls.name"
   ]
  },
  {
   "cell_type": "code",
   "execution_count": 16,
   "id": "522e39ab",
   "metadata": {},
   "outputs": [],
   "source": [
    "ls.name = '1'"
   ]
  },
  {
   "cell_type": "code",
   "execution_count": 17,
   "id": "ffb3aefd",
   "metadata": {},
   "outputs": [
    {
     "name": "stdout",
     "output_type": "stream",
     "text": [
      "Hello, world! I am 1.\n"
     ]
    }
   ],
   "source": [
    "ls.greet()"
   ]
  },
  {
   "cell_type": "code",
   "execution_count": 18,
   "id": "79724425",
   "metadata": {},
   "outputs": [],
   "source": [
    "class Person:\n",
    "    'This class is uesd to represent a person.'\n",
    "    def __init__(self, name=''):\n",
    "       # self.name = name\n",
    "        self.set_name(name)\n",
    "        \n",
    "    def set_name(self, name):\n",
    "        'Set name for this person.'\n",
    "        self.__name = name\n",
    "    \n",
    "    def get_name(self):\n",
    "        return self.__name\n",
    "    \n",
    "    def greet(self):\n",
    "        print(f'Hello, world! I am {self.name}.')"
   ]
  },
  {
   "cell_type": "code",
   "execution_count": 19,
   "id": "818ea6a8",
   "metadata": {},
   "outputs": [
    {
     "ename": "AttributeError",
     "evalue": "'Person' object has no attribute '__name'",
     "output_type": "error",
     "traceback": [
      "\u001b[1;31m---------------------------------------------------------------------------\u001b[0m",
      "\u001b[1;31mAttributeError\u001b[0m                            Traceback (most recent call last)",
      "\u001b[1;32m~\\AppData\\Local\\Temp/ipykernel_11812/3932580715.py\u001b[0m in \u001b[0;36m<module>\u001b[1;34m\u001b[0m\n\u001b[0;32m      1\u001b[0m \u001b[0mls\u001b[0m\u001b[1;33m.\u001b[0m\u001b[0mset_name\u001b[0m\u001b[1;33m(\u001b[0m\u001b[1;34m'Li'\u001b[0m\u001b[1;33m)\u001b[0m\u001b[1;33m\u001b[0m\u001b[1;33m\u001b[0m\u001b[0m\n\u001b[1;32m----> 2\u001b[1;33m \u001b[0mls\u001b[0m\u001b[1;33m.\u001b[0m\u001b[0m__name\u001b[0m\u001b[1;33m\u001b[0m\u001b[1;33m\u001b[0m\u001b[0m\n\u001b[0m",
      "\u001b[1;31mAttributeError\u001b[0m: 'Person' object has no attribute '__name'"
     ]
    }
   ],
   "source": [
    "ls.set_name('Li')\n",
    "ls.__name"
   ]
  },
  {
   "cell_type": "code",
   "execution_count": 21,
   "id": "929b9cf4",
   "metadata": {},
   "outputs": [],
   "source": [
    "ls.__name='1'"
   ]
  },
  {
   "cell_type": "code",
   "execution_count": 22,
   "id": "8f501495",
   "metadata": {},
   "outputs": [
    {
     "name": "stdout",
     "output_type": "stream",
     "text": [
      "Hello, world! I am Li.\n"
     ]
    }
   ],
   "source": [
    "ls.greet()"
   ]
  },
  {
   "cell_type": "code",
   "execution_count": 23,
   "id": "2051d13b",
   "metadata": {},
   "outputs": [
    {
     "name": "stdout",
     "output_type": "stream",
     "text": [
      "Help on class Person in module __main__:\n",
      "\n",
      "class Person(builtins.object)\n",
      " |  Person(name='')\n",
      " |  \n",
      " |  Methods defined here:\n",
      " |  \n",
      " |  __init__(self, name='')\n",
      " |      Initialize self.  See help(type(self)) for accurate signature.\n",
      " |  \n",
      " |  get_name(self)\n",
      " |  \n",
      " |  greet(self)\n",
      " |  \n",
      " |  set_name(self, name)\n",
      " |  \n",
      " |  ----------------------------------------------------------------------\n",
      " |  Data descriptors defined here:\n",
      " |  \n",
      " |  __dict__\n",
      " |      dictionary for instance variables (if defined)\n",
      " |  \n",
      " |  __weakref__\n",
      " |      list of weak references to the object (if defined)\n",
      "\n"
     ]
    }
   ],
   "source": [
    "help(Person)"
   ]
  },
  {
   "cell_type": "code",
   "execution_count": 41,
   "id": "4521c1c5",
   "metadata": {},
   "outputs": [],
   "source": [
    "class Person:\n",
    "    'This class is uesd to represent a person.'\n",
    "    def __init__(self, name=''):\n",
    "        self.set_name(name)\n",
    "        \n",
    "    def set_name(self, name: str):\n",
    "        'Set name for this person.'\n",
    "        assert(isinstance(name, str))\n",
    "        if isinstance(name, str):\n",
    "            self.__name = name\n",
    "        else:\n",
    "            assert(False)\n",
    "            print('Invalid name while calling set_name().')\n",
    "            self.__name = 'Invalid name'\n",
    "    \n",
    "    def get_name(self)->str:\n",
    "        return self.__name\n",
    "    \n",
    "    def greet(self):\n",
    "        print(f'Hello, world! I am {self.__name}.')"
   ]
  },
  {
   "cell_type": "code",
   "execution_count": 40,
   "id": "845b7283",
   "metadata": {},
   "outputs": [
    {
     "name": "stdout",
     "output_type": "stream",
     "text": [
      "Hello, world! I am Li.\n"
     ]
    }
   ],
   "source": [
    "zs = Person('Li')\n",
    "zs.greet()"
   ]
  },
  {
   "cell_type": "code",
   "execution_count": 44,
   "id": "ab768e89",
   "metadata": {},
   "outputs": [
    {
     "name": "stdout",
     "output_type": "stream",
     "text": [
      "1\n",
      "2\n"
     ]
    }
   ],
   "source": [
    "print('hello world!'.count('e'))\n",
    "print([1, 2, 'e', 'e', 3].count('e'))"
   ]
  },
  {
   "cell_type": "code",
   "execution_count": 49,
   "id": "178ab49f",
   "metadata": {},
   "outputs": [
    {
     "name": "stdout",
     "output_type": "stream",
     "text": [
      "hello,world:1\n",
      "[1, 2, 'e', 'e', 3]:2\n"
     ]
    }
   ],
   "source": [
    "my_list = ['hello,world',[1, 2, 'e', 'e',3]]\n",
    "\n",
    "for item in my_list:\n",
    "    print(f\"{item}:{item.count('e')}\")"
   ]
  },
  {
   "cell_type": "code",
   "execution_count": null,
   "id": "5391579a",
   "metadata": {},
   "outputs": [],
   "source": [
    "my_list = ['hello,world',[1, 2, 'e', 'e',3]]\n",
    "\n",
    "for item in my_list:\n",
    "    if isinstance(item,str):\n",
    "        item.count('e')\n",
    "    elif isinstance(item,list):\n",
    "        ......\n",
    "  "
   ]
  },
  {
   "cell_type": "code",
   "execution_count": 50,
   "id": "139d2581",
   "metadata": {},
   "outputs": [
    {
     "data": {
      "text/plain": [
       "3"
      ]
     },
     "execution_count": 50,
     "metadata": {},
     "output_type": "execute_result"
    }
   ],
   "source": [
    "1 + 2"
   ]
  },
  {
   "cell_type": "code",
   "execution_count": 51,
   "id": "996326b4",
   "metadata": {},
   "outputs": [
    {
     "data": {
      "text/plain": [
       "'hello world'"
      ]
     },
     "execution_count": 51,
     "metadata": {},
     "output_type": "execute_result"
    }
   ],
   "source": [
    "'hello' + ' ' + \"world\""
   ]
  },
  {
   "cell_type": "code",
   "execution_count": 52,
   "id": "23ea277a",
   "metadata": {},
   "outputs": [
    {
     "name": "stdout",
     "output_type": "stream",
     "text": [
      "meow...\n",
      "wang...\n",
      "meow...\n"
     ]
    }
   ],
   "source": [
    "class Cat:\n",
    "    def talk(self):\n",
    "        print('meow...')\n",
    "\n",
    "\n",
    "class Dog:\n",
    "    def talk(self):\n",
    "        print('wang...')\n",
    "\n",
    "pets = [Cat(), Dog(), Cat()]\n",
    "for pet in pets:\n",
    "    pet.talk()"
   ]
  },
  {
   "cell_type": "code",
   "execution_count": 55,
   "id": "0303fc07",
   "metadata": {},
   "outputs": [
    {
     "name": "stdout",
     "output_type": "stream",
     "text": [
      "meow...\n",
      "wang...\n",
      "meow...\n",
      "Cannot talk.\n"
     ]
    }
   ],
   "source": [
    "class Cat:\n",
    "    def talk(self):\n",
    "        print('meow...')\n",
    "\n",
    "\n",
    "class Dog:\n",
    "    def talk(self):\n",
    "        print('wang...')\n",
    "\n",
    "class Turtle():\n",
    "    def walk(self):\n",
    "        pass\n",
    "\n",
    "pets = [Cat(), Dog(), Cat(), Turtle()]\n",
    "for pet in pets:\n",
    "    if callable(getattr(pet, 'talk', None)):\n",
    "        pet.talk()\n",
    "    else:\n",
    "        print('Cannot talk.')"
   ]
  },
  {
   "cell_type": "code",
   "execution_count": 59,
   "id": "28c35942",
   "metadata": {},
   "outputs": [
    {
     "name": "stdout",
     "output_type": "stream",
     "text": [
      "Hello, world! I am Zhang.\n",
      "My score is 100.\n"
     ]
    }
   ],
   "source": [
    "class Student(Person):\n",
    "    def set_score(self, score):\n",
    "        self.__score = score\n",
    "\n",
    "    def get_score(self):\n",
    "        return self.__score;\n",
    "    \n",
    "    def show_score(self):\n",
    "        print(f'My score is {self.__score}.')\n",
    "\n",
    "zs = Student()\n",
    "zs.set_name('Zhang')\n",
    "zs.set_score(100)\n",
    "zs.greet()\n",
    "zs.show_score()"
   ]
  },
  {
   "cell_type": "code",
   "execution_count": 63,
   "id": "7b0321f0",
   "metadata": {},
   "outputs": [],
   "source": [
    "class Student(Person):\n",
    "    def __init__(self, name=''):\n",
    "        Person.set_name(self, name)\n",
    "        \n",
    "    def set_score(self, score):\n",
    "        self.__score = score\n",
    "\n",
    "    def get_score(self):\n",
    "        return self.__score;\n",
    "    \n",
    "    def show_score(self):\n",
    "        print(f'My score is {self.__score}.')\n",
    "    \n",
    "    def greet(self):\n",
    "        Person.greet(self)\n",
    "        print(f'My score is {self.__score}.')"
   ]
  },
  {
   "cell_type": "code",
   "execution_count": 64,
   "id": "7899c5c9",
   "metadata": {},
   "outputs": [
    {
     "name": "stdout",
     "output_type": "stream",
     "text": [
      "Hello, world! I am Zhang.\n",
      "My score is 100.\n"
     ]
    }
   ],
   "source": [
    "zs = Student('Zhang')\n",
    "zs.set_score(100)\n",
    "zs.greet()"
   ]
  },
  {
   "cell_type": "code",
   "execution_count": 74,
   "id": "5b1a925b",
   "metadata": {},
   "outputs": [
    {
     "data": {
      "text/plain": [
       "['eggs', 'bacon']"
      ]
     },
     "execution_count": 74,
     "metadata": {},
     "output_type": "execute_result"
    }
   ],
   "source": [
    "class Filter:\n",
    "    def __init__(self):\n",
    "        self.__blocked = [0]\n",
    "    \n",
    "    def filter(self,sequence):\n",
    "        return [x for x in sequence if x not in self.__blocked]\n",
    "\n",
    "class SpamFilter(Filter):\n",
    "    def __init__(self):\n",
    "        self._Filter__blocked = ['SPAM']\n",
    "\n",
    "f = SpamFilter()\n",
    "f.filter(['SPAM', 'SPAM', 'eggs', 'bacon','SPAM'])"
   ]
  },
  {
   "cell_type": "code",
   "execution_count": 75,
   "id": "ab1729ba",
   "metadata": {},
   "outputs": [
    {
     "data": {
      "text/plain": [
       "[1, 2]"
      ]
     },
     "execution_count": 75,
     "metadata": {},
     "output_type": "execute_result"
    }
   ],
   "source": [
    "f = Filter()\n",
    "f.filter([0,1,2])"
   ]
  },
  {
   "cell_type": "code",
   "execution_count": 79,
   "id": "1775a362",
   "metadata": {},
   "outputs": [
    {
     "name": "stdout",
     "output_type": "stream",
     "text": [
      "[1, 2]\n",
      "['eggs', 'bacon']\n"
     ]
    }
   ],
   "source": [
    "class Filter:\n",
    "    def __init__(self, block_list):\n",
    "        self.__blocked = block_list\n",
    "    \n",
    "    def filter(self,sequence):\n",
    "        return [x for x in sequence if x not in self.__blocked]\n",
    "\n",
    "f1 = Filter([0])\n",
    "print(f1.filter([0, 1, 2, 0]))\n",
    "f2 = Filter(['SPAM'])\n",
    "print(f2.filter(['SPAM', 'SPAM', 'eggs', 'bacon','SPAM']))"
   ]
  },
  {
   "cell_type": "code",
   "execution_count": 81,
   "id": "020f7056",
   "metadata": {},
   "outputs": [
    {
     "name": "stdout",
     "output_type": "stream",
     "text": [
      "cutting...\n",
      "screwing with screwdriver of size of 6...\n"
     ]
    }
   ],
   "source": [
    "class Screwdriver():\n",
    "    def screw(self):\n",
    "        print(f'screwing with screwdriver of size of {self.__size}...')\n",
    "        \n",
    "    def set_size(self, size):\n",
    "        self.__size = size\n",
    "\n",
    "class Knife():\n",
    "    def cut(self):\n",
    "        print('cutting...')\n",
    "\n",
    "class SwissKnife(Screwdriver, Knife):\n",
    "    pass\n",
    "\n",
    "sk = SwissKnife()\n",
    "sk.set_size(6)\n",
    "sk.cut()\n",
    "sk.screw()"
   ]
  },
  {
   "cell_type": "code",
   "execution_count": 87,
   "id": "f933eb2c",
   "metadata": {},
   "outputs": [
    {
     "name": "stdout",
     "output_type": "stream",
     "text": [
      "screwing with screwdriver of size of 10...\n",
      "screwing with screwdriver of size of 6...\n"
     ]
    }
   ],
   "source": [
    "class Screwdriver():\n",
    "    def work(self):\n",
    "        print(f'screwing with screwdriver of size of {self.__size}...')\n",
    "        \n",
    "    def set_size(self, size):\n",
    "        self.__size = size\n",
    "\n",
    "class Knife():\n",
    "    def cut(self):\n",
    "        print('cutting...')\n",
    "\n",
    "class SwissKnife:\n",
    "    def __init__(self):\n",
    "        self.__toolset = {}\n",
    "        \n",
    "    def add_tool(self, name, tool):\n",
    "        self.__toolset[name] = tool\n",
    "    \n",
    "    def use_tool(self, name):\n",
    "        self.__toolset[name].work()\n",
    "    \n",
    "sk = SwissKnife()\n",
    "sk.add_tool('Knife', Knife())\n",
    "bs = Screwdriver()\n",
    "bs.set_size(10)\n",
    "sk.add_tool('Big Sriewdriver',bs)\n",
    "ss = Screwdriver()\n",
    "ss.set_size(6)\n",
    "sk.add_tool('Small Sriewdriver',ss)\n",
    "\n",
    "sk.use_tool('Big Sriewdriver')\n",
    "sk.use_tool('Small Sriewdriver')"
   ]
  },
  {
   "cell_type": "code",
   "execution_count": 9,
   "id": "55b18de5",
   "metadata": {},
   "outputs": [
    {
     "name": "stdout",
     "output_type": "stream",
     "text": [
      "                                                            \r"
     ]
    }
   ],
   "source": [
    "from time import sleep\n",
    "\n",
    "bar_length = 60\n",
    "\n",
    "def init_bar(bar_length):\n",
    "    bar = list(' '*bar_length)\n",
    "    return bar\n",
    "\n",
    "def init_ants(bar_length):\n",
    "    ants = list()\n",
    "    ants.append({'position':0,'direction':1, 'symbol':'*'})\n",
    "    ants.append({'position':bar_length-1,'direction':-1,'symbol':'#'})\n",
    "    ants.append({'position':35,'direction':-1,'symbol':'@'})\n",
    "    return ants\n",
    "\n",
    "def update_bar(bar, ants):\n",
    "    for i in range(len(bar)):\n",
    "        bar[i] = ' '\n",
    "        \n",
    "    for ant in ants:\n",
    "        if 0 <= ant['position'] < len(bar):\n",
    "            bar[ant['position']] = ant['symbol']\n",
    "\n",
    "def is_bar_empty(bar):\n",
    "    for item in bar:\n",
    "        if not item == ' ':\n",
    "            return False\n",
    "    return True\n",
    "\n",
    "def show_bar(bar):\n",
    "    print(''.join(bar),end='\\r',flush=True)\n",
    "\n",
    "def update_ants_position(ants):\n",
    "    for ant in ants:\n",
    "        ant['position'] += ant['direction']\n",
    "BAR_LENGTH = 60      \n",
    "bar = init_bar(BAR_LENGTH)\n",
    "ants = init_ants(BAR_LENGTH)\n",
    "\n",
    "\n",
    "update_bar(bar,ants)\n",
    "show_bar(bar)\n",
    "\n",
    "while not is_bar_empty(bar):\n",
    "    update_bar(bar,ants)\n",
    "    show_bar(bar)\n",
    "    sleep(0.2)\n",
    "    update_ants_position(ants)"
   ]
  },
  {
   "cell_type": "code",
   "execution_count": null,
   "id": "2bfedbc1",
   "metadata": {},
   "outputs": [],
   "source": [
    "from time import sleep\n",
    "import random\n",
    "class Bar():\n",
    "    __empty = '_'\n",
    "    def __init__(self, length=80):\n",
    "        self.bar = list(Bar.__empty * length)\n",
    "    \n",
    "    def update(self, ants):\n",
    "        length=80\n",
    "        self.bar = list(Bar.__empty * length)\n",
    "        for ant in ants:\n",
    "            if 0 < ant.position < len(self.bar):\n",
    "                self.bar[ant.position] = ant.symbol\n",
    "        \n",
    "    def is_empty(self):\n",
    "        for item in self.bar:\n",
    "            if not item == Bar.__empty:\n",
    "                return False\n",
    "    \n",
    "    def show(self):\n",
    "        print(''.join(self.bar),end='\\r',flush=True)\n",
    "\n",
    "class Ant():\n",
    "    def __init__(self, position, direction, symbol='*'):\n",
    "        self.position = position\n",
    "        self.direction = direction\n",
    "        self.symbol = symbol\n",
    "    \n",
    "    def create_random_ant(length=80, symbol='*'):\n",
    "        self.position = random.randint(0, length - 1)\n",
    "        self.direction = random.choice([-1, 1])\n",
    "        return Ant(position, direction, symbol)\n",
    "    \n",
    "    def move():\n",
    "        self.position += self.direction\n",
    "        \n",
    "\n",
    "class Ants():\n",
    "    def __init__(self, count=3):\n",
    "        symbols = 'ABCDEFGHIJKLMN'\n",
    "        self.ants = list()\n",
    "        for i in range(count):\n",
    "            self.ants.append(Ant.create_random_ant(symbol=symbols[i]))\n",
    "            \n",
    "    def get_ants(self):\n",
    "        return self.ants\n",
    "        \n",
    "\n",
    "bar = Bar(70)\n",
    "ants = Ants(5)\n",
    "\n",
    "bar.update(ants.get_ants())\n",
    "bar.show()\n",
    "\n",
    "while not bar.is_empty():\n",
    "    sleep(0.25)\n",
    "    Ant.move()\n",
    "    bar.update(ants.get_ants())\n",
    "    bar.show()\n",
    "    "
   ]
  }
 ],
 "metadata": {
  "kernelspec": {
   "display_name": "Python 3 (ipykernel)",
   "language": "python",
   "name": "python3"
  },
  "language_info": {
   "codemirror_mode": {
    "name": "ipython",
    "version": 3
   },
   "file_extension": ".py",
   "mimetype": "text/x-python",
   "name": "python",
   "nbconvert_exporter": "python",
   "pygments_lexer": "ipython3",
   "version": "3.9.7"
  }
 },
 "nbformat": 4,
 "nbformat_minor": 5
}
