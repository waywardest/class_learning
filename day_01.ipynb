{
 "cells": [
  {
   "cell_type": "code",
   "execution_count": 1,
   "id": "48a9e455",
   "metadata": {},
   "outputs": [
    {
     "name": "stdout",
     "output_type": "stream",
     "text": [
      "1\n"
     ]
    }
   ],
   "source": [
    "print('1')"
   ]
  },
  {
   "cell_type": "code",
   "execution_count": 2,
   "id": "5ee68f1d",
   "metadata": {},
   "outputs": [
    {
     "data": {
      "text/plain": [
       "3"
      ]
     },
     "execution_count": 2,
     "metadata": {},
     "output_type": "execute_result"
    }
   ],
   "source": [
    "1+2"
   ]
  },
  {
   "cell_type": "code",
   "execution_count": 3,
   "id": "5f96a28c",
   "metadata": {},
   "outputs": [
    {
     "name": "stdout",
     "output_type": "stream",
     "text": [
      "hello world\n"
     ]
    }
   ],
   "source": [
    "print('hello world')"
   ]
  },
  {
   "cell_type": "code",
   "execution_count": 4,
   "id": "3a92d603",
   "metadata": {},
   "outputs": [
    {
     "name": "stdout",
     "output_type": "stream",
     "text": [
      "3\n"
     ]
    }
   ],
   "source": [
    "print(1+2)"
   ]
  },
  {
   "cell_type": "code",
   "execution_count": 5,
   "id": "f2dd92e0",
   "metadata": {},
   "outputs": [
    {
     "name": "stdout",
     "output_type": "stream",
     "text": [
      "Please input your name?wal\n"
     ]
    }
   ],
   "source": [
    "name = input('Please input your name?')"
   ]
  },
  {
   "cell_type": "code",
   "execution_count": 7,
   "id": "ef8b6b2f",
   "metadata": {},
   "outputs": [
    {
     "data": {
      "text/plain": [
       "'wal'"
      ]
     },
     "execution_count": 7,
     "metadata": {},
     "output_type": "execute_result"
    }
   ],
   "source": [
    "name"
   ]
  },
  {
   "cell_type": "code",
   "execution_count": 8,
   "id": "b664f77f",
   "metadata": {},
   "outputs": [
    {
     "name": "stdout",
     "output_type": "stream",
     "text": [
      "hello,wal!\n"
     ]
    }
   ],
   "source": [
    "print('hello,{}!'.format(name))"
   ]
  },
  {
   "cell_type": "code",
   "execution_count": 9,
   "id": "fe5ed896",
   "metadata": {},
   "outputs": [
    {
     "name": "stdout",
     "output_type": "stream",
     "text": [
      "pleaase input a number: 5\n",
      "The square of 5 is 25.\n"
     ]
    }
   ],
   "source": [
    "number = int(input('pleaase input a number: '))\n",
    "print('The square of {} is {}.'.format(number,number*number))"
   ]
  },
  {
   "cell_type": "code",
   "execution_count": 10,
   "id": "1b69816e",
   "metadata": {},
   "outputs": [
    {
     "name": "stdout",
     "output_type": "stream",
     "text": [
      "please input a nuumber:3\n",
      "please input a another nuumber:4\n",
      "3.0 + 4.0 = 7.0\n"
     ]
    }
   ],
   "source": [
    "a = float(input('please input a nuumber:'))\n",
    "b = float(input('please input a another nuumber:'))\n",
    "print(\"{} + {} = {}\".format(a,b,a + b))"
   ]
  },
  {
   "cell_type": "code",
   "execution_count": 11,
   "id": "ec994cd5",
   "metadata": {},
   "outputs": [
    {
     "name": "stdout",
     "output_type": "stream",
     "text": [
      "please input a nuumber:3\n",
      "please input a another nuumber:4\n",
      "3.0 + 4.0 = 7.0\n"
     ]
    }
   ],
   "source": [
    "a = float(input('please input a nuumber:'))\n",
    "b = float(input('please input a another nuumber:'))\n",
    "print(f\"{a} + {b} = {a+b}\")"
   ]
  },
  {
   "cell_type": "code",
   "execution_count": 12,
   "id": "b3408d0e",
   "metadata": {},
   "outputs": [
    {
     "name": "stdout",
     "output_type": "stream",
     "text": [
      "3.0 * 3.0 * 3.0 = 27.0\n"
     ]
    }
   ],
   "source": [
    "print('{} * {} * {} = {}'.format(a,a,a,a*a*a))"
   ]
  },
  {
   "cell_type": "code",
   "execution_count": 13,
   "id": "c5918a0f",
   "metadata": {},
   "outputs": [
    {
     "name": "stdout",
     "output_type": "stream",
     "text": [
      "3.0 * 3.0 * 3.0 = 27.0\n"
     ]
    }
   ],
   "source": [
    "print('{0} * {0} * {0} = {1}'.format(a,a*a*a))"
   ]
  },
  {
   "cell_type": "code",
   "execution_count": 14,
   "id": "8e9d8774",
   "metadata": {},
   "outputs": [
    {
     "name": "stdout",
     "output_type": "stream",
     "text": [
      "3.0 * 3.0 * 3.0 = 27.0\n"
     ]
    }
   ],
   "source": [
    "print(f'{a} * {a} * {a} = {a*a*a}')"
   ]
  },
  {
   "cell_type": "code",
   "execution_count": 16,
   "id": "651f50ee",
   "metadata": {},
   "outputs": [
    {
     "data": {
      "text/plain": [
       "4294967296"
      ]
     },
     "execution_count": 16,
     "metadata": {},
     "output_type": "execute_result"
    }
   ],
   "source": [
    "2**32"
   ]
  },
  {
   "cell_type": "code",
   "execution_count": 17,
   "id": "12cb0eb0",
   "metadata": {},
   "outputs": [
    {
     "data": {
      "text/plain": [
       "0.6666666666666666"
      ]
     },
     "execution_count": 17,
     "metadata": {},
     "output_type": "execute_result"
    }
   ],
   "source": [
    "2/3"
   ]
  },
  {
   "cell_type": "code",
   "execution_count": 19,
   "id": "ba5c15f8",
   "metadata": {},
   "outputs": [
    {
     "data": {
      "text/plain": [
       "0"
      ]
     },
     "execution_count": 19,
     "metadata": {},
     "output_type": "execute_result"
    }
   ],
   "source": [
    "2//3"
   ]
  },
  {
   "cell_type": "code",
   "execution_count": 21,
   "id": "0a706041",
   "metadata": {},
   "outputs": [
    {
     "data": {
      "text/plain": [
       "1"
      ]
     },
     "execution_count": 21,
     "metadata": {},
     "output_type": "execute_result"
    }
   ],
   "source": [
    "4//3"
   ]
  },
  {
   "cell_type": "code",
   "execution_count": 22,
   "id": "7b7846d9",
   "metadata": {},
   "outputs": [
    {
     "data": {
      "text/plain": [
       "-2"
      ]
     },
     "execution_count": 22,
     "metadata": {},
     "output_type": "execute_result"
    }
   ],
   "source": [
    "-4//3"
   ]
  },
  {
   "cell_type": "code",
   "execution_count": 23,
   "id": "4731a324",
   "metadata": {},
   "outputs": [
    {
     "data": {
      "text/plain": [
       "1"
      ]
     },
     "execution_count": 23,
     "metadata": {},
     "output_type": "execute_result"
    }
   ],
   "source": [
    "4%3"
   ]
  },
  {
   "cell_type": "code",
   "execution_count": 24,
   "id": "294ac906",
   "metadata": {},
   "outputs": [
    {
     "data": {
      "text/plain": [
       "2"
      ]
     },
     "execution_count": 24,
     "metadata": {},
     "output_type": "execute_result"
    }
   ],
   "source": [
    "-4%3"
   ]
  },
  {
   "cell_type": "code",
   "execution_count": 25,
   "id": "5ea5c745",
   "metadata": {},
   "outputs": [
    {
     "ename": "NameError",
     "evalue": "name 'b100' is not defined",
     "output_type": "error",
     "traceback": [
      "\u001b[1;31m---------------------------------------------------------------------------\u001b[0m",
      "\u001b[1;31mNameError\u001b[0m                                 Traceback (most recent call last)",
      "\u001b[1;32m~\\AppData\\Local\\Temp/ipykernel_18704/1350564350.py\u001b[0m in \u001b[0;36m<module>\u001b[1;34m\u001b[0m\n\u001b[1;32m----> 1\u001b[1;33m \u001b[0mb100\u001b[0m\u001b[1;33m\u001b[0m\u001b[1;33m\u001b[0m\u001b[0m\n\u001b[0m",
      "\u001b[1;31mNameError\u001b[0m: name 'b100' is not defined"
     ]
    }
   ],
   "source": [
    "b100"
   ]
  },
  {
   "cell_type": "code",
   "execution_count": 26,
   "id": "e197b59a",
   "metadata": {},
   "outputs": [
    {
     "data": {
      "text/plain": [
       "2"
      ]
     },
     "execution_count": 26,
     "metadata": {},
     "output_type": "execute_result"
    }
   ],
   "source": [
    "0b10"
   ]
  },
  {
   "cell_type": "code",
   "execution_count": 27,
   "id": "0197fb74",
   "metadata": {},
   "outputs": [
    {
     "data": {
      "text/plain": [
       "255"
      ]
     },
     "execution_count": 27,
     "metadata": {},
     "output_type": "execute_result"
    }
   ],
   "source": [
    "0xff"
   ]
  },
  {
   "cell_type": "code",
   "execution_count": 28,
   "id": "fdcc46e7",
   "metadata": {},
   "outputs": [
    {
     "data": {
      "text/plain": [
       "511"
      ]
     },
     "execution_count": 28,
     "metadata": {},
     "output_type": "execute_result"
    }
   ],
   "source": [
    "0o777"
   ]
  },
  {
   "cell_type": "code",
   "execution_count": 29,
   "id": "de7682b5",
   "metadata": {},
   "outputs": [
    {
     "name": "stdout",
     "output_type": "stream",
     "text": [
      "0xff\n"
     ]
    }
   ],
   "source": [
    "print(hex(255))"
   ]
  },
  {
   "cell_type": "code",
   "execution_count": 30,
   "id": "75f9d45e",
   "metadata": {},
   "outputs": [
    {
     "name": "stdout",
     "output_type": "stream",
     "text": [
      "0b11111111\n"
     ]
    }
   ],
   "source": [
    "print(bin(255))"
   ]
  },
  {
   "cell_type": "code",
   "execution_count": 31,
   "id": "8139aa75",
   "metadata": {},
   "outputs": [
    {
     "name": "stdout",
     "output_type": "stream",
     "text": [
      "0o377\n"
     ]
    }
   ],
   "source": [
    "print(oct(255))"
   ]
  },
  {
   "cell_type": "code",
   "execution_count": 32,
   "id": "399d1e3c",
   "metadata": {},
   "outputs": [
    {
     "name": "stdout",
     "output_type": "stream",
     "text": [
      "8\n"
     ]
    }
   ],
   "source": [
    "print(2**3)"
   ]
  },
  {
   "cell_type": "code",
   "execution_count": 33,
   "id": "ed1de4f8",
   "metadata": {},
   "outputs": [
    {
     "name": "stdout",
     "output_type": "stream",
     "text": [
      "9.97423999265871\n"
     ]
    }
   ],
   "source": [
    "print(pow(2.1,3.1))"
   ]
  },
  {
   "cell_type": "code",
   "execution_count": 34,
   "id": "d72069ed",
   "metadata": {},
   "outputs": [
    {
     "data": {
      "text/plain": [
       "1"
      ]
     },
     "execution_count": 34,
     "metadata": {},
     "output_type": "execute_result"
    }
   ],
   "source": [
    "round(2/3)"
   ]
  },
  {
   "cell_type": "code",
   "execution_count": 35,
   "id": "5118ef1a",
   "metadata": {},
   "outputs": [
    {
     "data": {
      "text/plain": [
       "0"
      ]
     },
     "execution_count": 35,
     "metadata": {},
     "output_type": "execute_result"
    }
   ],
   "source": [
    "round(1/2)"
   ]
  },
  {
   "cell_type": "code",
   "execution_count": 36,
   "id": "b97e7a68",
   "metadata": {},
   "outputs": [
    {
     "data": {
      "text/plain": [
       "1"
      ]
     },
     "execution_count": 36,
     "metadata": {},
     "output_type": "execute_result"
    }
   ],
   "source": [
    "import math\n",
    "math.ceil(1/2)"
   ]
  },
  {
   "cell_type": "code",
   "execution_count": 37,
   "id": "05f50528",
   "metadata": {},
   "outputs": [
    {
     "ename": "NameError",
     "evalue": "name 'sqrt' is not defined",
     "output_type": "error",
     "traceback": [
      "\u001b[1;31m---------------------------------------------------------------------------\u001b[0m",
      "\u001b[1;31mNameError\u001b[0m                                 Traceback (most recent call last)",
      "\u001b[1;32m~\\AppData\\Local\\Temp/ipykernel_18704/2177306879.py\u001b[0m in \u001b[0;36m<module>\u001b[1;34m\u001b[0m\n\u001b[1;32m----> 1\u001b[1;33m \u001b[0msqrt\u001b[0m\u001b[1;33m(\u001b[0m\u001b[1;36m2\u001b[0m\u001b[1;33m)\u001b[0m\u001b[1;33m\u001b[0m\u001b[1;33m\u001b[0m\u001b[0m\n\u001b[0m",
      "\u001b[1;31mNameError\u001b[0m: name 'sqrt' is not defined"
     ]
    }
   ],
   "source": [
    "sqrt(2)"
   ]
  },
  {
   "cell_type": "code",
   "execution_count": 38,
   "id": "94aa296c",
   "metadata": {},
   "outputs": [
    {
     "data": {
      "text/plain": [
       "1.4142135623730951"
      ]
     },
     "execution_count": 38,
     "metadata": {},
     "output_type": "execute_result"
    }
   ],
   "source": [
    "math.sqrt(2)"
   ]
  },
  {
   "cell_type": "code",
   "execution_count": 39,
   "id": "3a9cb319",
   "metadata": {},
   "outputs": [
    {
     "data": {
      "text/plain": [
       "1j"
      ]
     },
     "execution_count": 39,
     "metadata": {},
     "output_type": "execute_result"
    }
   ],
   "source": [
    "import cmath\n",
    "cmath.sqrt(-1)"
   ]
  },
  {
   "cell_type": "code",
   "execution_count": 40,
   "id": "cf97ea22",
   "metadata": {},
   "outputs": [
    {
     "name": "stdout",
     "output_type": "stream",
     "text": [
      "(13-1j)\n"
     ]
    }
   ],
   "source": [
    "print((1 + 3j)*(1 -4j))"
   ]
  },
  {
   "cell_type": "code",
   "execution_count": 41,
   "id": "6ef1a614",
   "metadata": {},
   "outputs": [
    {
     "data": {
      "text/plain": [
       "str"
      ]
     },
     "execution_count": 41,
     "metadata": {},
     "output_type": "execute_result"
    }
   ],
   "source": [
    "type('wal')"
   ]
  },
  {
   "cell_type": "code",
   "execution_count": 42,
   "id": "390f56a6",
   "metadata": {},
   "outputs": [
    {
     "data": {
      "text/plain": [
       "int"
      ]
     },
     "execution_count": 42,
     "metadata": {},
     "output_type": "execute_result"
    }
   ],
   "source": [
    "type(3)"
   ]
  },
  {
   "cell_type": "code",
   "execution_count": 43,
   "id": "cc7573e5",
   "metadata": {},
   "outputs": [
    {
     "data": {
      "text/plain": [
       "complex"
      ]
     },
     "execution_count": 43,
     "metadata": {},
     "output_type": "execute_result"
    }
   ],
   "source": [
    "type(1j)"
   ]
  },
  {
   "cell_type": "code",
   "execution_count": 45,
   "id": "3a6bf74f",
   "metadata": {},
   "outputs": [
    {
     "name": "stdout",
     "output_type": "stream",
     "text": [
      "1+1=?3\n",
      "You'd better learn some python for self-impobement.\n",
      "lets go\n"
     ]
    }
   ],
   "source": [
    "ans = int(input('1+1=?'))\n",
    "if ans == 2:\n",
    "    print('I think you are smart enough to study python.')\n",
    "else:\n",
    "    print(\"You'd better learn some python for self-impobement.\")\n",
    "print('lets go')"
   ]
  },
  {
   "cell_type": "code",
   "execution_count": null,
   "id": "eb118b1b",
   "metadata": {},
   "outputs": [],
   "source": []
  }
 ],
 "metadata": {
  "kernelspec": {
   "display_name": "Python 3 (ipykernel)",
   "language": "python",
   "name": "python3"
  },
  "language_info": {
   "codemirror_mode": {
    "name": "ipython",
    "version": 3
   },
   "file_extension": ".py",
   "mimetype": "text/x-python",
   "name": "python",
   "nbconvert_exporter": "python",
   "pygments_lexer": "ipython3",
   "version": "3.9.7"
  }
 },
 "nbformat": 4,
 "nbformat_minor": 5
}
