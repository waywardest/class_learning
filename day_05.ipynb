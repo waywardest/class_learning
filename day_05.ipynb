{
 "cells": [
  {
   "cell_type": "code",
   "execution_count": 2,
   "id": "96d08ba3",
   "metadata": {},
   "outputs": [
    {
     "name": "stdout",
     "output_type": "stream",
     "text": [
      "your name plaease: wal\n",
      "Hello, wal\n"
     ]
    }
   ],
   "source": [
    "name = input('your name please: ')\n",
    "if name:\n",
    "    print('Hello, ' + name)\n",
    "else:\n",
    "    print('you forget your name')"
   ]
  },
  {
   "cell_type": "code",
   "execution_count": 6,
   "id": "6a9a13d6",
   "metadata": {},
   "outputs": [
    {
     "name": "stdout",
     "output_type": "stream",
     "text": [
      "your name please: l\n",
      "Hello,l\n"
     ]
    }
   ],
   "source": [
    "name = input('your name please: ')\n",
    "print('Hello,'+name if name else 'you forget your name')"
   ]
  },
  {
   "cell_type": "code",
   "execution_count": 7,
   "id": "bfe28f51",
   "metadata": {},
   "outputs": [],
   "source": [
    "def abs(a):\n",
    "    return a if a >= 0 else -a"
   ]
  },
  {
   "cell_type": "code",
   "execution_count": 10,
   "id": "42a0c39a",
   "metadata": {},
   "outputs": [
    {
     "data": {
      "text/plain": [
       "True"
      ]
     },
     "execution_count": 10,
     "metadata": {},
     "output_type": "execute_result"
    }
   ],
   "source": [
    "a = 4\n",
    "3 < a < 5"
   ]
  },
  {
   "cell_type": "code",
   "execution_count": 11,
   "id": "756f07ad",
   "metadata": {},
   "outputs": [
    {
     "name": "stdout",
     "output_type": "stream",
     "text": [
      "please input the year: 1984\n",
      "leap year\n"
     ]
    }
   ],
   "source": [
    "year = int(input('please input the year: '))\n",
    "if year % 400 == 0:\n",
    "    print('Ieap year')\n",
    "elif year % 100 == 0:\n",
    "    print('not a leap year')\n",
    "elif year % 4 == 0:\n",
    "    print('leap year')\n",
    "else:\n",
    "    print('not a leap year')"
   ]
  },
  {
   "cell_type": "code",
   "execution_count": 15,
   "id": "0a961875",
   "metadata": {},
   "outputs": [
    {
     "name": "stdout",
     "output_type": "stream",
     "text": [
      "please input the year: -3\n"
     ]
    },
    {
     "ename": "AssertionError",
     "evalue": "",
     "output_type": "error",
     "traceback": [
      "\u001b[1;31m---------------------------------------------------------------------------\u001b[0m",
      "\u001b[1;31mAssertionError\u001b[0m                            Traceback (most recent call last)",
      "\u001b[1;32m~\\AppData\\Local\\Temp/ipykernel_13340/3620407433.py\u001b[0m in \u001b[0;36m<module>\u001b[1;34m\u001b[0m\n\u001b[0;32m     11\u001b[0m \u001b[1;33m\u001b[0m\u001b[0m\n\u001b[0;32m     12\u001b[0m \u001b[0myear\u001b[0m \u001b[1;33m=\u001b[0m \u001b[0mint\u001b[0m\u001b[1;33m(\u001b[0m\u001b[0minput\u001b[0m\u001b[1;33m(\u001b[0m\u001b[1;34m'please input the year: '\u001b[0m\u001b[1;33m)\u001b[0m\u001b[1;33m)\u001b[0m\u001b[1;33m\u001b[0m\u001b[1;33m\u001b[0m\u001b[0m\n\u001b[1;32m---> 13\u001b[1;33m \u001b[0mprint\u001b[0m\u001b[1;33m(\u001b[0m\u001b[1;34m'leap year'\u001b[0m \u001b[1;32mif\u001b[0m \u001b[0mis_leap_year\u001b[0m\u001b[1;33m(\u001b[0m\u001b[0myear\u001b[0m\u001b[1;33m)\u001b[0m \u001b[1;32melse\u001b[0m \u001b[1;34m'not a leap year'\u001b[0m\u001b[1;33m)\u001b[0m\u001b[1;33m\u001b[0m\u001b[1;33m\u001b[0m\u001b[0m\n\u001b[0m",
      "\u001b[1;32m~\\AppData\\Local\\Temp/ipykernel_13340/3620407433.py\u001b[0m in \u001b[0;36mis_leap_year\u001b[1;34m(year)\u001b[0m\n\u001b[0;32m      1\u001b[0m \u001b[1;32mdef\u001b[0m \u001b[0mis_leap_year\u001b[0m\u001b[1;33m(\u001b[0m\u001b[0myear\u001b[0m\u001b[1;33m)\u001b[0m\u001b[1;33m:\u001b[0m\u001b[1;33m\u001b[0m\u001b[1;33m\u001b[0m\u001b[0m\n\u001b[1;32m----> 2\u001b[1;33m     \u001b[1;32massert\u001b[0m\u001b[1;33m(\u001b[0m\u001b[0myear\u001b[0m\u001b[1;33m)\u001b[0m \u001b[1;33m>=\u001b[0m \u001b[1;36m0\u001b[0m\u001b[1;33m\u001b[0m\u001b[1;33m\u001b[0m\u001b[0m\n\u001b[0m\u001b[0;32m      3\u001b[0m     \u001b[1;32mif\u001b[0m \u001b[0myear\u001b[0m \u001b[1;33m%\u001b[0m \u001b[1;36m400\u001b[0m \u001b[1;33m==\u001b[0m \u001b[1;36m0\u001b[0m\u001b[1;33m:\u001b[0m\u001b[1;33m\u001b[0m\u001b[1;33m\u001b[0m\u001b[0m\n\u001b[0;32m      4\u001b[0m         \u001b[1;32mreturn\u001b[0m \u001b[1;32mTrue\u001b[0m\u001b[1;33m\u001b[0m\u001b[1;33m\u001b[0m\u001b[0m\n\u001b[0;32m      5\u001b[0m     \u001b[1;32melif\u001b[0m \u001b[0myear\u001b[0m \u001b[1;33m%\u001b[0m \u001b[1;36m100\u001b[0m \u001b[1;33m==\u001b[0m \u001b[1;36m0\u001b[0m\u001b[1;33m:\u001b[0m\u001b[1;33m\u001b[0m\u001b[1;33m\u001b[0m\u001b[0m\n",
      "\u001b[1;31mAssertionError\u001b[0m: "
     ]
    }
   ],
   "source": [
    "def is_leap_year(year):\n",
    "    assert(year) >= 0\n",
    "    if year % 400 == 0:\n",
    "        return True\n",
    "    elif year % 100 == 0:\n",
    "        return False\n",
    "    elif year % 4 == 0:\n",
    "        return True\n",
    "    else:\n",
    "        return False\n",
    "\n",
    "year = int(input('please input the year: '))\n",
    "print('leap year' if is_leap_year(year) else 'not a leap year')\n"
   ]
  },
  {
   "cell_type": "code",
   "execution_count": 14,
   "id": "4cfdefe9",
   "metadata": {},
   "outputs": [
    {
     "ename": "AssertionError",
     "evalue": "",
     "output_type": "error",
     "traceback": [
      "\u001b[1;31m---------------------------------------------------------------------------\u001b[0m",
      "\u001b[1;31mAssertionError\u001b[0m                            Traceback (most recent call last)",
      "\u001b[1;32m~\\AppData\\Local\\Temp/ipykernel_13340/2418294429.py\u001b[0m in \u001b[0;36m<module>\u001b[1;34m\u001b[0m\n\u001b[1;32m----> 1\u001b[1;33m \u001b[1;32massert\u001b[0m\u001b[1;33m(\u001b[0m\u001b[1;36m4\u001b[0m \u001b[1;33m==\u001b[0m \u001b[1;36m3\u001b[0m\u001b[1;33m)\u001b[0m\u001b[1;33m\u001b[0m\u001b[1;33m\u001b[0m\u001b[0m\n\u001b[0m",
      "\u001b[1;31mAssertionError\u001b[0m: "
     ]
    }
   ],
   "source": [
    "assert(4 == 3)"
   ]
  },
  {
   "cell_type": "code",
   "execution_count": 16,
   "id": "194246fc",
   "metadata": {},
   "outputs": [],
   "source": [
    "def test_is_leap_year():\n",
    "    assert(is_leap_year(2000))\n",
    "    assert(is_leap_year(1900) == False)\n",
    "    assert(is_leap_year(1984))\n",
    "    assert(is_leap_year(3) == False)\n",
    "    \n",
    "test_is_leap_year()"
   ]
  },
  {
   "cell_type": "code",
   "execution_count": 17,
   "id": "b0de39fc",
   "metadata": {},
   "outputs": [
    {
     "name": "stdout",
     "output_type": "stream",
     "text": [
      "please input the year: -3\n",
      "invalid year\n"
     ]
    }
   ],
   "source": [
    "def is_leap_year(year):\n",
    "    assert(year) >= 0\n",
    "    if year % 400 == 0:\n",
    "        return True\n",
    "    elif year % 100 == 0:\n",
    "        return False\n",
    "    elif year % 4 == 0:\n",
    "        return True\n",
    "    else:\n",
    "        return False\n",
    "\n",
    "year = int(input('please input the year: '))\n",
    "if year < 0: print('invalid year')\n",
    "else:\n",
    "    print('leap year' if is_leap_year(year) else 'not a leap year')"
   ]
  },
  {
   "cell_type": "code",
   "execution_count": 18,
   "id": "3fe0849e",
   "metadata": {},
   "outputs": [],
   "source": [
    "def is_leap_year(year):\n",
    "    assert(year >= 0)\n",
    "    return (year % 400 == 0) or (year % 4 == 0 and year % 100)\n",
    "\n",
    "test_is_leap_year()"
   ]
  },
  {
   "cell_type": "code",
   "execution_count": 19,
   "id": "58c11b77",
   "metadata": {},
   "outputs": [
    {
     "name": "stdout",
     "output_type": "stream",
     "text": [
      "1 2 4 5 7 8 10 11 14 16 17 19 20 22 25 26 28 29 40 41 44 46 47 49 50 52 55 56 58 59 61 62 64 65 67 68 70 71 74 76 77 79 80 82 85 86 88 89 91 92 94 95 97 98 100 "
     ]
    }
   ],
   "source": [
    "x = 1\n",
    "while x <= 100:\n",
    "    if x % 3 == 0 or '3' in str(x):\n",
    "        pass\n",
    "    else:\n",
    "        print(x, end=' ')\n",
    "    x+=1"
   ]
  },
  {
   "cell_type": "code",
   "execution_count": 20,
   "id": "1080a6ff",
   "metadata": {},
   "outputs": [
    {
     "name": "stdout",
     "output_type": "stream",
     "text": [
      "**********\n",
      "**********\n",
      "**********\n",
      "**********\n",
      "**********\n"
     ]
    }
   ],
   "source": [
    "for i in range(5):\n",
    "    print('*'*10)"
   ]
  },
  {
   "cell_type": "code",
   "execution_count": 21,
   "id": "4cb86bd4",
   "metadata": {},
   "outputs": [
    {
     "name": "stdout",
     "output_type": "stream",
     "text": [
      "\b                                                           *"
     ]
    }
   ],
   "source": [
    "import math\n",
    "\n",
    "def wait():\n",
    "    y = 0\n",
    "    while y < 500000:\n",
    "        z = math.sin(0.2)*math.exp(0.1)\n",
    "        y+=1\n",
    "\n",
    "bar_length = 60\n",
    "x = 1\n",
    "while x < bar_length:\n",
    "    print('\\b *', sep='',end='',flush=True)\n",
    "    x+=1\n",
    "    wait()"
   ]
  },
  {
   "cell_type": "code",
   "execution_count": 22,
   "id": "96925697",
   "metadata": {},
   "outputs": [
    {
     "name": "stdout",
     "output_type": "stream",
     "text": [
      "#                                                          *\r"
     ]
    }
   ],
   "source": [
    "import math\n",
    "\n",
    "def wait():\n",
    "    y = 0\n",
    "    while y < 500000:\n",
    "        z = math.sin(0.2)*math.exp(0.1)\n",
    "        y+=1\n",
    "\n",
    "length = 60\n",
    "x = 0\n",
    "y = length - 1\n",
    "bar = list(' '*length)\n",
    "for i in range(length):\n",
    "    bar[x] = '*'\n",
    "    bar[y] = \"#\"\n",
    "    print(''.join(bar), end='',flush=True) # show the bar\n",
    "    wait()\n",
    "    bar[x] = ' '\n",
    "    bar[y] = ' '\n",
    "    \n",
    "    x+=1\n",
    "    y-=1\n",
    "    print('\\r',end='',flush=True)"
   ]
  },
  {
   "cell_type": "code",
   "execution_count": 23,
   "id": "1ce2ba2a",
   "metadata": {},
   "outputs": [
    {
     "ename": "NameError",
     "evalue": "name 'init_bar' is not defined",
     "output_type": "error",
     "traceback": [
      "\u001b[1;31m---------------------------------------------------------------------------\u001b[0m",
      "\u001b[1;31mNameError\u001b[0m                                 Traceback (most recent call last)",
      "\u001b[1;32m~\\AppData\\Local\\Temp/ipykernel_13340/986962740.py\u001b[0m in \u001b[0;36m<module>\u001b[1;34m\u001b[0m\n\u001b[1;32m----> 1\u001b[1;33m \u001b[0minit_bar\u001b[0m\u001b[1;33m(\u001b[0m\u001b[1;33m)\u001b[0m\u001b[1;33m\u001b[0m\u001b[1;33m\u001b[0m\u001b[0m\n\u001b[0m\u001b[0;32m      2\u001b[0m \u001b[0minit_ants\u001b[0m\u001b[1;33m(\u001b[0m\u001b[1;33m)\u001b[0m\u001b[1;33m\u001b[0m\u001b[1;33m\u001b[0m\u001b[0m\n\u001b[0;32m      3\u001b[0m \u001b[1;33m\u001b[0m\u001b[0m\n\u001b[0;32m      4\u001b[0m \u001b[0mupdate_bar\u001b[0m\u001b[1;33m(\u001b[0m\u001b[1;33m)\u001b[0m\u001b[1;33m\u001b[0m\u001b[1;33m\u001b[0m\u001b[0m\n\u001b[0;32m      5\u001b[0m \u001b[0mshow_bar\u001b[0m\u001b[1;33m(\u001b[0m\u001b[1;33m)\u001b[0m\u001b[1;33m\u001b[0m\u001b[1;33m\u001b[0m\u001b[0m\n",
      "\u001b[1;31mNameError\u001b[0m: name 'init_bar' is not defined"
     ]
    }
   ],
   "source": [
    "init_bar()\n",
    "init_ants()\n",
    "\n",
    "update_bar()\n",
    "show_bar()\n",
    "\n",
    "while not is_bar_empty():\n",
    "    update_bar()\n",
    "    show_bar()\n",
    "    wait()\n",
    "    update_ants_position()"
   ]
  },
  {
   "cell_type": "code",
   "execution_count": 29,
   "id": "45c61d4f",
   "metadata": {},
   "outputs": [
    {
     "name": "stdout",
     "output_type": "stream",
     "text": [
      "                                                            \r"
     ]
    }
   ],
   "source": [
    "from time import sleep\n",
    "\n",
    "bar_length = 60\n",
    "\n",
    "def init_bar(bar_length):\n",
    "    bar = list(' '*bar_length)\n",
    "    return bar\n",
    "\n",
    "def init_ants(bar_length):\n",
    "    ants = list()\n",
    "    ants.append({'position':0,'direction':1, 'symbol':'*'})\n",
    "    ants.append({'position':bar_length-1,'direction':-1,'symbol':'#'})\n",
    "    ants.append({'position':35,'direction':-1,'symbol':'@'})\n",
    "    return ants\n",
    "\n",
    "def update_bar(bar, ants):\n",
    "    for i in range(len(bar)):\n",
    "        bar[i] = ' '\n",
    "        \n",
    "    for ant in ants:\n",
    "        if 0 <= ant['position'] < len(bar):\n",
    "            bar[ant['position']] = ant['symbol']\n",
    "\n",
    "def is_bar_empty(bar):\n",
    "    for item in bar:\n",
    "        if not item == ' ':\n",
    "            return False\n",
    "    return True\n",
    "\n",
    "def show_bar(bar):\n",
    "    print(''.join(bar),end='\\r',flush=True)\n",
    "\n",
    "def update_ants_position(ants):\n",
    "    for ant in ants:\n",
    "        ant['position'] += ant['direction']\n",
    "BAR_LENGTH = 60      \n",
    "bar = init_bar(BAR_LENGTH)\n",
    "ants = init_ants(BAR_LENGTH)\n",
    "\n",
    "\n",
    "update_bar(bar,ants)\n",
    "show_bar(bar)\n",
    "\n",
    "while not is_bar_empty(bar):\n",
    "    update_bar(bar,ants)\n",
    "    show_bar(bar)\n",
    "    sleep(0.2)\n",
    "    update_ants_position(ants)"
   ]
  },
  {
   "cell_type": "code",
   "execution_count": 31,
   "id": "6480186e",
   "metadata": {},
   "outputs": [
    {
     "name": "stdout",
     "output_type": "stream",
     "text": [
      "please input a sentence: How are you? hello.\n",
      "How 3\n",
      "are 3\n",
      "you? 4\n",
      "hello. 6\n"
     ]
    }
   ],
   "source": [
    "str1 = ''\n",
    "while not str1:\n",
    "    str1 = input('please input a sentence: ')\n",
    "for word in str1.split():\n",
    "    print(word,len(word))"
   ]
  },
  {
   "cell_type": "code",
   "execution_count": 32,
   "id": "bc548666",
   "metadata": {},
   "outputs": [
    {
     "name": "stdout",
     "output_type": "stream",
     "text": [
      "a 10\n",
      "b 20\n",
      "c 30\n"
     ]
    }
   ],
   "source": [
    "names = ['a', 'b', 'c']\n",
    "age = [10, 20, 30]\n",
    "\n",
    "for i in range(3):\n",
    "    print(names[i], age[i])"
   ]
  },
  {
   "cell_type": "code",
   "execution_count": 33,
   "id": "8ab707f6",
   "metadata": {},
   "outputs": [
    {
     "name": "stdout",
     "output_type": "stream",
     "text": [
      "a 10\n",
      "b 20\n",
      "c 30\n"
     ]
    }
   ],
   "source": [
    "names = ['a', 'b', 'c']\n",
    "age = [10, 20, 30]\n",
    "\n",
    "for name, age in zip(names, age):\n",
    "    print(name, age)"
   ]
  },
  {
   "cell_type": "code",
   "execution_count": 35,
   "id": "fd420a2f",
   "metadata": {},
   "outputs": [
    {
     "name": "stdout",
     "output_type": "stream",
     "text": [
      "1 a\n",
      "2 b\n",
      "3 c\n"
     ]
    }
   ],
   "source": [
    "names = ['a', 'b', 'c']\n",
    "for i in range(len(names)):\n",
    "    print(i+1, names[i])"
   ]
  },
  {
   "cell_type": "code",
   "execution_count": 36,
   "id": "2a8e7ae9",
   "metadata": {},
   "outputs": [
    {
     "name": "stdout",
     "output_type": "stream",
     "text": [
      "0 a\n",
      "1 b\n",
      "2 c\n"
     ]
    }
   ],
   "source": [
    "for i,name in enumerate(names):\n",
    "    print(i, name)"
   ]
  },
  {
   "cell_type": "code",
   "execution_count": 37,
   "id": "7703795d",
   "metadata": {},
   "outputs": [
    {
     "data": {
      "text/plain": [
       "[1,\n",
       " 2,\n",
       " 4,\n",
       " 5,\n",
       " 7,\n",
       " 8,\n",
       " 10,\n",
       " 11,\n",
       " 14,\n",
       " 16,\n",
       " 17,\n",
       " 19,\n",
       " 20,\n",
       " 22,\n",
       " 25,\n",
       " 26,\n",
       " 28,\n",
       " 29,\n",
       " 40,\n",
       " 41,\n",
       " 44,\n",
       " 46,\n",
       " 47,\n",
       " 49,\n",
       " 50,\n",
       " 52,\n",
       " 55,\n",
       " 56,\n",
       " 58,\n",
       " 59,\n",
       " 61,\n",
       " 62,\n",
       " 64,\n",
       " 65,\n",
       " 67,\n",
       " 68,\n",
       " 70,\n",
       " 71,\n",
       " 74,\n",
       " 76,\n",
       " 77,\n",
       " 79,\n",
       " 80,\n",
       " 82,\n",
       " 85,\n",
       " 86,\n",
       " 88,\n",
       " 89,\n",
       " 91,\n",
       " 92,\n",
       " 94,\n",
       " 95,\n",
       " 97,\n",
       " 98]"
      ]
     },
     "execution_count": 37,
     "metadata": {},
     "output_type": "execute_result"
    }
   ],
   "source": [
    "[x for x in range(100) if x % 3 and '3' not in str(x)]"
   ]
  },
  {
   "cell_type": "code",
   "execution_count": 39,
   "id": "614b25c7",
   "metadata": {},
   "outputs": [
    {
     "data": {
      "text/plain": [
       "[('arnold', 'alice'),\n",
       " ('bob', 'bernice'),\n",
       " ('chiris', 'clarice'),\n",
       " ('bob', 'beatrice')]"
      ]
     },
     "execution_count": 39,
     "metadata": {},
     "output_type": "execute_result"
    }
   ],
   "source": [
    "girls = ['alice', 'bernice', 'clarice', 'beatrice']\n",
    "boys = ['chiris', 'arnold', 'bob']\n",
    "\n",
    "[(boy, girl) for girl in girls for boy in boys if boy[0] == girl[0]]"
   ]
  },
  {
   "cell_type": "code",
   "execution_count": 40,
   "id": "d2699cf3",
   "metadata": {},
   "outputs": [],
   "source": [
    "t = (i * 3 for i in range(10))"
   ]
  },
  {
   "cell_type": "code",
   "execution_count": 41,
   "id": "8bf3b2f4",
   "metadata": {},
   "outputs": [
    {
     "data": {
      "text/plain": [
       "<generator object <genexpr> at 0x0000029C71390350>"
      ]
     },
     "execution_count": 41,
     "metadata": {},
     "output_type": "execute_result"
    }
   ],
   "source": [
    "t"
   ]
  },
  {
   "cell_type": "code",
   "execution_count": 42,
   "id": "a57b4cad",
   "metadata": {},
   "outputs": [
    {
     "data": {
      "text/plain": [
       "[0, 1, 2, 3, 4, 5, 6, 7, 8, 9]"
      ]
     },
     "execution_count": 42,
     "metadata": {},
     "output_type": "execute_result"
    }
   ],
   "source": [
    "list(range(10))"
   ]
  },
  {
   "cell_type": "code",
   "execution_count": 43,
   "id": "6cbbb24a",
   "metadata": {},
   "outputs": [
    {
     "data": {
      "text/plain": [
       "[0, 3, 6, 9, 12, 15, 18, 21, 24, 27]"
      ]
     },
     "execution_count": 43,
     "metadata": {},
     "output_type": "execute_result"
    }
   ],
   "source": [
    "list(t)"
   ]
  },
  {
   "cell_type": "code",
   "execution_count": 51,
   "id": "b46a2755",
   "metadata": {},
   "outputs": [
    {
     "name": "stdout",
     "output_type": "stream",
     "text": [
      "abc abc\n"
     ]
    }
   ],
   "source": [
    "x = y = 'abc'\n",
    "print(x, y)"
   ]
  },
  {
   "cell_type": "code",
   "execution_count": 52,
   "id": "0a37c6b3",
   "metadata": {},
   "outputs": [
    {
     "data": {
      "text/plain": [
       "True"
      ]
     },
     "execution_count": 52,
     "metadata": {},
     "output_type": "execute_result"
    }
   ],
   "source": [
    "x is y"
   ]
  },
  {
   "cell_type": "code",
   "execution_count": 53,
   "id": "26b3902d",
   "metadata": {},
   "outputs": [],
   "source": [
    "del x"
   ]
  },
  {
   "cell_type": "code",
   "execution_count": 54,
   "id": "7d57bb86",
   "metadata": {},
   "outputs": [
    {
     "ename": "NameError",
     "evalue": "name 'x' is not defined",
     "output_type": "error",
     "traceback": [
      "\u001b[1;31m---------------------------------------------------------------------------\u001b[0m",
      "\u001b[1;31mNameError\u001b[0m                                 Traceback (most recent call last)",
      "\u001b[1;32m~\\AppData\\Local\\Temp/ipykernel_13340/32546335.py\u001b[0m in \u001b[0;36m<module>\u001b[1;34m\u001b[0m\n\u001b[1;32m----> 1\u001b[1;33m \u001b[0mx\u001b[0m\u001b[1;33m\u001b[0m\u001b[1;33m\u001b[0m\u001b[0m\n\u001b[0m",
      "\u001b[1;31mNameError\u001b[0m: name 'x' is not defined"
     ]
    }
   ],
   "source": [
    "x"
   ]
  },
  {
   "cell_type": "code",
   "execution_count": 55,
   "id": "6a9d0080",
   "metadata": {},
   "outputs": [
    {
     "data": {
      "text/plain": [
       "'abc'"
      ]
     },
     "execution_count": 55,
     "metadata": {},
     "output_type": "execute_result"
    }
   ],
   "source": [
    "y"
   ]
  },
  {
   "cell_type": "code",
   "execution_count": 58,
   "id": "cedc013f",
   "metadata": {},
   "outputs": [
    {
     "name": "stdout",
     "output_type": "stream",
     "text": [
      "hello\n"
     ]
    }
   ],
   "source": [
    "exec('print(\"hello\")')"
   ]
  },
  {
   "cell_type": "code",
   "execution_count": 60,
   "id": "d951764f",
   "metadata": {},
   "outputs": [
    {
     "name": "stdout",
     "output_type": "stream",
     "text": [
      "please input an expression: 2+3+5\n",
      "10\n"
     ]
    }
   ],
   "source": [
    "expression = input('please input an expression: ')\n",
    "exec(f'print({expression})')"
   ]
  },
  {
   "cell_type": "code",
   "execution_count": 61,
   "id": "bb94824e",
   "metadata": {},
   "outputs": [
    {
     "data": {
      "text/plain": [
       "5"
      ]
     },
     "execution_count": 61,
     "metadata": {},
     "output_type": "execute_result"
    }
   ],
   "source": [
    "eval('2+3')"
   ]
  },
  {
   "cell_type": "code",
   "execution_count": 63,
   "id": "fadba199",
   "metadata": {},
   "outputs": [
    {
     "data": {
      "text/plain": [
       "1.4142135623730951"
      ]
     },
     "execution_count": 63,
     "metadata": {},
     "output_type": "execute_result"
    }
   ],
   "source": [
    "from math import sqrt\n",
    "\n",
    "sqrt(2)"
   ]
  },
  {
   "cell_type": "code",
   "execution_count": 64,
   "id": "2f14bcbd",
   "metadata": {},
   "outputs": [],
   "source": [
    "sqrt = 1"
   ]
  },
  {
   "cell_type": "code",
   "execution_count": 65,
   "id": "4eef320a",
   "metadata": {},
   "outputs": [
    {
     "ename": "TypeError",
     "evalue": "'int' object is not callable",
     "output_type": "error",
     "traceback": [
      "\u001b[1;31m---------------------------------------------------------------------------\u001b[0m",
      "\u001b[1;31mTypeError\u001b[0m                                 Traceback (most recent call last)",
      "\u001b[1;32m~\\AppData\\Local\\Temp/ipykernel_13340/42886766.py\u001b[0m in \u001b[0;36m<module>\u001b[1;34m\u001b[0m\n\u001b[1;32m----> 1\u001b[1;33m \u001b[0msqrt\u001b[0m\u001b[1;33m(\u001b[0m\u001b[1;36m3\u001b[0m\u001b[1;33m)\u001b[0m\u001b[1;33m\u001b[0m\u001b[1;33m\u001b[0m\u001b[0m\n\u001b[0m",
      "\u001b[1;31mTypeError\u001b[0m: 'int' object is not callable"
     ]
    }
   ],
   "source": [
    "sqrt(3)"
   ]
  },
  {
   "cell_type": "code",
   "execution_count": 66,
   "id": "b7f73aeb",
   "metadata": {},
   "outputs": [
    {
     "data": {
      "text/plain": [
       "['BAR_LENGTH',\n",
       " 'In',\n",
       " 'Out',\n",
       " '_',\n",
       " '_10',\n",
       " '_37',\n",
       " '_38',\n",
       " '_39',\n",
       " '_41',\n",
       " '_42',\n",
       " '_43',\n",
       " '_48',\n",
       " '_52',\n",
       " '_55',\n",
       " '_61',\n",
       " '_63',\n",
       " '_8',\n",
       " '_9',\n",
       " '__',\n",
       " '___',\n",
       " '__builtin__',\n",
       " '__builtins__',\n",
       " '__doc__',\n",
       " '__loader__',\n",
       " '__name__',\n",
       " '__package__',\n",
       " '__spec__',\n",
       " '_dh',\n",
       " '_i',\n",
       " '_i1',\n",
       " '_i10',\n",
       " '_i11',\n",
       " '_i12',\n",
       " '_i13',\n",
       " '_i14',\n",
       " '_i15',\n",
       " '_i16',\n",
       " '_i17',\n",
       " '_i18',\n",
       " '_i19',\n",
       " '_i2',\n",
       " '_i20',\n",
       " '_i21',\n",
       " '_i22',\n",
       " '_i23',\n",
       " '_i24',\n",
       " '_i25',\n",
       " '_i26',\n",
       " '_i27',\n",
       " '_i28',\n",
       " '_i29',\n",
       " '_i3',\n",
       " '_i30',\n",
       " '_i31',\n",
       " '_i32',\n",
       " '_i33',\n",
       " '_i34',\n",
       " '_i35',\n",
       " '_i36',\n",
       " '_i37',\n",
       " '_i38',\n",
       " '_i39',\n",
       " '_i4',\n",
       " '_i40',\n",
       " '_i41',\n",
       " '_i42',\n",
       " '_i43',\n",
       " '_i44',\n",
       " '_i45',\n",
       " '_i46',\n",
       " '_i47',\n",
       " '_i48',\n",
       " '_i49',\n",
       " '_i5',\n",
       " '_i50',\n",
       " '_i51',\n",
       " '_i52',\n",
       " '_i53',\n",
       " '_i54',\n",
       " '_i55',\n",
       " '_i56',\n",
       " '_i57',\n",
       " '_i58',\n",
       " '_i59',\n",
       " '_i6',\n",
       " '_i60',\n",
       " '_i61',\n",
       " '_i62',\n",
       " '_i63',\n",
       " '_i64',\n",
       " '_i65',\n",
       " '_i66',\n",
       " '_i7',\n",
       " '_i8',\n",
       " '_i9',\n",
       " '_ih',\n",
       " '_ii',\n",
       " '_iii',\n",
       " '_oh',\n",
       " 'a',\n",
       " 'abs',\n",
       " 'age',\n",
       " 'ants',\n",
       " 'bar',\n",
       " 'bar_length',\n",
       " 'boys',\n",
       " 'exit',\n",
       " 'expression',\n",
       " 'get_ipython',\n",
       " 'girls',\n",
       " 'i',\n",
       " 'init_ants',\n",
       " 'init_bar',\n",
       " 'is_bar_empty',\n",
       " 'is_leap_year',\n",
       " 'length',\n",
       " 'math',\n",
       " 'name',\n",
       " 'names',\n",
       " 'quit',\n",
       " 'show_bar',\n",
       " 'sleep',\n",
       " 'sqrt',\n",
       " 'str1',\n",
       " 't',\n",
       " 'test_is_leap_year',\n",
       " 'update_ants_position',\n",
       " 'update_bar',\n",
       " 'wait',\n",
       " 'word',\n",
       " 'y',\n",
       " 'year']"
      ]
     },
     "execution_count": 66,
     "metadata": {},
     "output_type": "execute_result"
    }
   ],
   "source": [
    "dir()"
   ]
  },
  {
   "cell_type": "code",
   "execution_count": 67,
   "id": "6b812bfe",
   "metadata": {},
   "outputs": [
    {
     "data": {
      "text/plain": [
       "2.0"
      ]
     },
     "execution_count": 67,
     "metadata": {},
     "output_type": "execute_result"
    }
   ],
   "source": [
    "from math import sqrt\n",
    "scope = {}\n",
    "exec('sqrt = 1', scope)\n",
    "sqrt(4)"
   ]
  },
  {
   "cell_type": "code",
   "execution_count": 68,
   "id": "0b0c4dec",
   "metadata": {},
   "outputs": [
    {
     "name": "stdout",
     "output_type": "stream",
     "text": [
      "Variable               Type                          Data/Info\n",
      "--------------------------------------------------------------\n",
      "BAR_LENGTH             int                           60\n",
      "a                      int                           4\n",
      "abs                    function                      <function abs at 0x0000029C71283DC0>\n",
      "age                    int                           30\n",
      "ants                   list                          n=3\n",
      "bar                    list                          n=60\n",
      "bar_length             int                           60\n",
      "boys                   list                          n=3\n",
      "expression             str                           2+3+5\n",
      "girls                  list                          n=4\n",
      "i                      int                           2\n",
      "init_ants              function                      <function init_ants at 0x0000029C7137AD30>\n",
      "init_bar               function                      <function init_bar at 0x0000029C7137AC10>\n",
      "is_bar_empty           function                      <function is_bar_empty at 0x0000029C7137AF70>\n",
      "is_leap_year           function                      <function is_leap_year at 0x0000029C7137A9D0>\n",
      "length                 int                           60\n",
      "math                   module                        <module 'math' (built-in)>\n",
      "name                   str                           c\n",
      "names                  list                          n=3\n",
      "scope                  dict                          n=2\n",
      "show_bar               function                      <function show_bar at 0x0000029C7137A820>\n",
      "sleep                  builtin_function_or_method    <built-in function sleep>\n",
      "sqrt                   builtin_function_or_method    <built-in function sqrt>\n",
      "str1                   str                           How are you? hello.\n",
      "t                      generator                     <generator object <genexp<...>r> at 0x0000029C71390350>\n",
      "test_is_leap_year      function                      <function test_is_leap_ye<...>ar at 0x0000029C7137AAF0>\n",
      "update_ants_position   function                      <function update_ants_pos<...>on at 0x0000029C7137AEE0>\n",
      "update_bar             function                      <function update_bar at 0x0000029C7137A790>\n",
      "wait                   function                      <function wait at 0x0000029C7137A8B0>\n",
      "word                   str                           hello.\n",
      "y                      str                           abc\n",
      "year                   int                           -3\n"
     ]
    }
   ],
   "source": [
    "%whos"
   ]
  },
  {
   "cell_type": "code",
   "execution_count": 71,
   "id": "6f850fef",
   "metadata": {},
   "outputs": [
    {
     "name": "stdout",
     "output_type": "stream",
     "text": [
      "0\n",
      "1\n",
      "2\n",
      "3\n",
      "4\n",
      "5\n",
      "6\n",
      "7\n",
      "8\n",
      "9\n",
      "10\n"
     ]
    }
   ],
   "source": [
    "def print_numbers(n):\n",
    "    if n > 0:\n",
    "        print_numbers(n-1)\n",
    "    print(n)\n",
    "        \n",
    "print_numbers(10)"
   ]
  },
  {
   "cell_type": "code",
   "execution_count": 74,
   "id": "615b31b7",
   "metadata": {},
   "outputs": [
    {
     "name": "stdout",
     "output_type": "stream",
     "text": [
      "a -> c\n",
      "a -> b\n",
      "c -> b\n",
      "a -> c\n",
      "b -> a\n",
      "b -> c\n",
      "a -> c\n"
     ]
    }
   ],
   "source": [
    "def hanoi(n, source, target, temp):\n",
    "    if n == 1:\n",
    "        print(f'{source} -> {target}')\n",
    "    else:\n",
    "        hanoi(n-1, source, temp, target)\n",
    "        # hanoi(1, source, target, temp)\n",
    "        print(f'{source} -> {target}')\n",
    "        hanoi(n-1, temp, target, source)\n",
    "    \n",
    "hanoi(3, 'a', 'c', 'b')"
   ]
  },
  {
   "cell_type": "code",
   "execution_count": 75,
   "id": "01f62000",
   "metadata": {},
   "outputs": [
    {
     "data": {
      "text/plain": [
       "[1, 1, 2, 3, 5, 8, 13, 21, 34, 55]"
      ]
     },
     "execution_count": 75,
     "metadata": {},
     "output_type": "execute_result"
    }
   ],
   "source": [
    "def fib(n):\n",
    "    result = [1, 1]\n",
    "    for i in range(n-2):\n",
    "        result.append(result[-2] + result[-1])\n",
    "    return result\n",
    "\n",
    "fib(10)"
   ]
  },
  {
   "cell_type": "code",
   "execution_count": 76,
   "id": "0c63adcc",
   "metadata": {},
   "outputs": [
    {
     "name": "stdout",
     "output_type": "stream",
     "text": [
      "55\n"
     ]
    }
   ],
   "source": [
    "def fib(n):\n",
    "    item_before_last, last = 1, 1\n",
    "    for i in range(n - 2):\n",
    "        item_before_last, last = last, item_before_last+last\n",
    "    return last\n",
    "print(fib(10))"
   ]
  },
  {
   "cell_type": "code",
   "execution_count": null,
   "id": "d157c2a1",
   "metadata": {},
   "outputs": [],
   "source": []
  }
 ],
 "metadata": {
  "kernelspec": {
   "display_name": "Python 3 (ipykernel)",
   "language": "python",
   "name": "python3"
  },
  "language_info": {
   "codemirror_mode": {
    "name": "ipython",
    "version": 3
   },
   "file_extension": ".py",
   "mimetype": "text/x-python",
   "name": "python",
   "nbconvert_exporter": "python",
   "pygments_lexer": "ipython3",
   "version": "3.9.7"
  }
 },
 "nbformat": 4,
 "nbformat_minor": 5
}
