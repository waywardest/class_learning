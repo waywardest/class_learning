{
 "cells": [
  {
   "cell_type": "code",
   "execution_count": 1,
   "id": "2528a94e",
   "metadata": {},
   "outputs": [
    {
     "name": "stdout",
     "output_type": "stream",
     "text": [
      "please input a name: name2\n",
      "90\n"
     ]
    }
   ],
   "source": [
    "names = ['name1','name2','name3']\n",
    "scores = [80,90,100]\n",
    "name = input('please input a name: ')\n",
    "print(scores[names.index(name)])"
   ]
  },
  {
   "cell_type": "code",
   "execution_count": 2,
   "id": "8a979207",
   "metadata": {},
   "outputs": [
    {
     "name": "stdout",
     "output_type": "stream",
     "text": [
      "please input a name: name1\n",
      "80\n"
     ]
    }
   ],
   "source": [
    "scores = [['name1',80], ['name2',90],['name3',100]]\n",
    "name = input('please input a name: ')\n",
    "for item in scores:\n",
    "    if item[0] == name:\n",
    "        print(item[1])"
   ]
  },
  {
   "cell_type": "code",
   "execution_count": 3,
   "id": "29d5f370",
   "metadata": {},
   "outputs": [
    {
     "name": "stdout",
     "output_type": "stream",
     "text": [
      "please input a name: name1\n",
      "80\n"
     ]
    }
   ],
   "source": [
    "scores = {'name1':80,'name2':90,'name3':100}\n",
    "name = input('please input a name: ')\n",
    "print(scores[name])"
   ]
  },
  {
   "cell_type": "code",
   "execution_count": 4,
   "id": "b898cb85",
   "metadata": {},
   "outputs": [],
   "source": [
    "scores['name4'] = 98"
   ]
  },
  {
   "cell_type": "code",
   "execution_count": 5,
   "id": "86601ca6",
   "metadata": {},
   "outputs": [
    {
     "data": {
      "text/plain": [
       "{'name1': 80, 'name2': 90, 'name3': 100, 'name4': 98}"
      ]
     },
     "execution_count": 5,
     "metadata": {},
     "output_type": "execute_result"
    }
   ],
   "source": [
    "scores"
   ]
  },
  {
   "cell_type": "code",
   "execution_count": 6,
   "id": "ebe8f068",
   "metadata": {},
   "outputs": [],
   "source": [
    "del scores['name1']"
   ]
  },
  {
   "cell_type": "code",
   "execution_count": 7,
   "id": "510cac49",
   "metadata": {},
   "outputs": [
    {
     "data": {
      "text/plain": [
       "{'name2': 90, 'name3': 100, 'name4': 98}"
      ]
     },
     "execution_count": 7,
     "metadata": {},
     "output_type": "execute_result"
    }
   ],
   "source": [
    "scores"
   ]
  },
  {
   "cell_type": "code",
   "execution_count": 8,
   "id": "048e0c43",
   "metadata": {},
   "outputs": [],
   "source": [
    "d = dict(name='Bob',age = 24)"
   ]
  },
  {
   "cell_type": "code",
   "execution_count": 9,
   "id": "5e46d604",
   "metadata": {},
   "outputs": [
    {
     "data": {
      "text/plain": [
       "{'name': 'Bob', 'age': 24}"
      ]
     },
     "execution_count": 9,
     "metadata": {},
     "output_type": "execute_result"
    }
   ],
   "source": [
    "d"
   ]
  },
  {
   "cell_type": "code",
   "execution_count": 10,
   "id": "2ce61903",
   "metadata": {},
   "outputs": [],
   "source": [
    "d1 = d\n",
    "d1['name']='Mary'"
   ]
  },
  {
   "cell_type": "code",
   "execution_count": 11,
   "id": "e03ea92b",
   "metadata": {},
   "outputs": [
    {
     "data": {
      "text/plain": [
       "{'name': 'Mary', 'age': 24}"
      ]
     },
     "execution_count": 11,
     "metadata": {},
     "output_type": "execute_result"
    }
   ],
   "source": [
    "d"
   ]
  },
  {
   "cell_type": "code",
   "execution_count": 13,
   "id": "bd3b5fe2",
   "metadata": {},
   "outputs": [
    {
     "data": {
      "text/plain": [
       "{'name': 'not_initialized', 'age': 'not_initialized'}"
      ]
     },
     "execution_count": 13,
     "metadata": {},
     "output_type": "execute_result"
    }
   ],
   "source": [
    "{}.fromkeys(['name','age'],'not_initialized')"
   ]
  },
  {
   "cell_type": "code",
   "execution_count": 14,
   "id": "14506c2d",
   "metadata": {},
   "outputs": [
    {
     "name": "stdout",
     "output_type": "stream",
     "text": [
      "{'a': 4, 'e': 5, 'i': 7, 'o': 2, 'u': 0}\n"
     ]
    }
   ],
   "source": [
    "str = 'hello, this is a test,this is also a test.this is the final test.'\n",
    "count = dict.fromkeys('aeiou',0)\n",
    "for ch in str:\n",
    "    if ch in 'aeiou':\n",
    "        count[ch]+=1\n",
    "print(count)"
   ]
  },
  {
   "cell_type": "code",
   "execution_count": 15,
   "id": "f5454b5a",
   "metadata": {},
   "outputs": [
    {
     "data": {
      "text/plain": [
       "4"
      ]
     },
     "execution_count": 15,
     "metadata": {},
     "output_type": "execute_result"
    }
   ],
   "source": [
    "count['a']"
   ]
  },
  {
   "cell_type": "code",
   "execution_count": 16,
   "id": "ae14e6fc",
   "metadata": {},
   "outputs": [
    {
     "ename": "KeyError",
     "evalue": "'b'",
     "output_type": "error",
     "traceback": [
      "\u001b[1;31m---------------------------------------------------------------------------\u001b[0m",
      "\u001b[1;31mKeyError\u001b[0m                                  Traceback (most recent call last)",
      "\u001b[1;32m~\\AppData\\Local\\Temp/ipykernel_20116/2966011469.py\u001b[0m in \u001b[0;36m<module>\u001b[1;34m\u001b[0m\n\u001b[1;32m----> 1\u001b[1;33m \u001b[0mcount\u001b[0m\u001b[1;33m[\u001b[0m\u001b[1;34m'b'\u001b[0m\u001b[1;33m]\u001b[0m\u001b[1;33m\u001b[0m\u001b[1;33m\u001b[0m\u001b[0m\n\u001b[0m",
      "\u001b[1;31mKeyError\u001b[0m: 'b'"
     ]
    }
   ],
   "source": [
    "count['b']"
   ]
  },
  {
   "cell_type": "code",
   "execution_count": 17,
   "id": "499ba859",
   "metadata": {},
   "outputs": [
    {
     "name": "stdout",
     "output_type": "stream",
     "text": [
      "4\n"
     ]
    }
   ],
   "source": [
    "print(count.get('a'))"
   ]
  },
  {
   "cell_type": "code",
   "execution_count": 20,
   "id": "7f4a7da7",
   "metadata": {},
   "outputs": [
    {
     "name": "stdout",
     "output_type": "stream",
     "text": [
      "0\n"
     ]
    }
   ],
   "source": [
    "print(count.get('b',0))"
   ]
  },
  {
   "cell_type": "code",
   "execution_count": 19,
   "id": "85a85cfe",
   "metadata": {},
   "outputs": [
    {
     "data": {
      "text/plain": [
       "False"
      ]
     },
     "execution_count": 19,
     "metadata": {},
     "output_type": "execute_result"
    }
   ],
   "source": [
    "'b' in count"
   ]
  },
  {
   "cell_type": "code",
   "execution_count": 23,
   "id": "5f279861",
   "metadata": {},
   "outputs": [],
   "source": [
    "student = dict.fromkeys(('name','score'))"
   ]
  },
  {
   "cell_type": "code",
   "execution_count": 24,
   "id": "853057a5",
   "metadata": {},
   "outputs": [
    {
     "data": {
      "text/plain": [
       "{'name': None, 'score': None}"
      ]
     },
     "execution_count": 24,
     "metadata": {},
     "output_type": "execute_result"
    }
   ],
   "source": [
    "student"
   ]
  },
  {
   "cell_type": "code",
   "execution_count": 25,
   "id": "1f45af07",
   "metadata": {},
   "outputs": [
    {
     "name": "stdout",
     "output_type": "stream",
     "text": [
      "please input a name: wal\n",
      "please input a score: 100\n",
      "Name:wal Score:100\n"
     ]
    }
   ],
   "source": [
    "student['name'] = input('please input a name: ')\n",
    "student['score'] = int(input('please input a score: '))\n",
    "print(f\"Name:{student['name']} Score:{student['score']}\")"
   ]
  },
  {
   "cell_type": "code",
   "execution_count": 26,
   "id": "50215e5a",
   "metadata": {},
   "outputs": [],
   "source": [
    "text = '赵钱孙李、周吴郑王、冯陈褚卫、蒋沈韩杨、朱秦尤许、何吕施张、孔曹严华、金魏陶姜、戚谢邹喻、柏水窦章、云苏潘葛、奚范彭郎、鲁韦昌马、苗凤花方、俞任袁柳、酆鲍史唐、费廉岑薛、雷贺倪汤、滕殷罗毕、郝邬安常、乐于时傅、皮卞齐康、伍余元卜、顾孟平黄、和穆萧尹、姚邵湛汪、祁毛禹狄、米贝明臧、计伏成戴、谈宋茅庞、熊纪舒屈、项祝董梁、杜阮蓝闵、席季麻强、贾路娄危、江童颜郭、梅盛林刁、钟徐邱骆、高夏蔡田、樊胡凌霍、虞万支柯、昝管卢莫、经房裘缪、干解应宗、丁宣贲邓、郁单杭洪、包诸左石、崔吉钮龚、程嵇邢滑、裴陆荣翁、荀羊於惠、甄麴家封、芮羿储靳、汲邴糜松、井段富巫、乌焦巴弓、牧隗山谷、车侯宓蓬、全郗班仰、秋仲伊宫、宁仇栾暴、甘钭厉戎、祖武符刘'"
   ]
  },
  {
   "cell_type": "code",
   "execution_count": 28,
   "id": "33531d78",
   "metadata": {},
   "outputs": [],
   "source": [
    "import pypinyin\n",
    "pinyin_list = pypinyin.pinyin(text,style=pypinyin.Style.NORMAL)"
   ]
  },
  {
   "cell_type": "code",
   "execution_count": 38,
   "id": "deedbd42",
   "metadata": {},
   "outputs": [],
   "source": [
    "name_list = [item[0].title() for item in pinyin_list if item[0]!='、']"
   ]
  },
  {
   "cell_type": "code",
   "execution_count": 39,
   "id": "50bcae4e",
   "metadata": {},
   "outputs": [
    {
     "data": {
      "text/plain": [
       "['Zhao',\n",
       " 'Qian',\n",
       " 'Sun',\n",
       " 'Li',\n",
       " 'Zhou',\n",
       " 'Wu',\n",
       " 'Zheng',\n",
       " 'Wang',\n",
       " 'Feng',\n",
       " 'Chen',\n",
       " 'Chu',\n",
       " 'Wei',\n",
       " 'Jiang',\n",
       " 'Shen',\n",
       " 'Han',\n",
       " 'Yang',\n",
       " 'Zhu',\n",
       " 'Qin',\n",
       " 'You',\n",
       " 'Xu',\n",
       " 'He',\n",
       " 'Lv',\n",
       " 'Shi',\n",
       " 'Zhang',\n",
       " 'Kong',\n",
       " 'Cao',\n",
       " 'Yan',\n",
       " 'Hua',\n",
       " 'Jin',\n",
       " 'Wei',\n",
       " 'Tao',\n",
       " 'Jiang',\n",
       " 'Qi',\n",
       " 'Xie',\n",
       " 'Zou',\n",
       " 'Yu',\n",
       " 'Bai',\n",
       " 'Shui',\n",
       " 'Dou',\n",
       " 'Zhang',\n",
       " 'Yun',\n",
       " 'Su',\n",
       " 'Pan',\n",
       " 'Ge',\n",
       " 'Xi',\n",
       " 'Fan',\n",
       " 'Peng',\n",
       " 'Lang',\n",
       " 'Lu',\n",
       " 'Wei',\n",
       " 'Chang',\n",
       " 'Ma',\n",
       " 'Miao',\n",
       " 'Feng',\n",
       " 'Hua',\n",
       " 'Fang',\n",
       " 'Yu',\n",
       " 'Ren',\n",
       " 'Yuan',\n",
       " 'Liu',\n",
       " 'Feng',\n",
       " 'Bao',\n",
       " 'Shi',\n",
       " 'Tang',\n",
       " 'Fei',\n",
       " 'Lian',\n",
       " 'Cen',\n",
       " 'Xue',\n",
       " 'Lei',\n",
       " 'He',\n",
       " 'Ni',\n",
       " 'Tang',\n",
       " 'Teng',\n",
       " 'Yin',\n",
       " 'Luo',\n",
       " 'Bi',\n",
       " 'Hao',\n",
       " 'Wu',\n",
       " 'An',\n",
       " 'Chang',\n",
       " 'Le',\n",
       " 'Yu',\n",
       " 'Shi',\n",
       " 'Fu',\n",
       " 'Pi',\n",
       " 'Bian',\n",
       " 'Qi',\n",
       " 'Kang',\n",
       " 'Wu',\n",
       " 'Yu',\n",
       " 'Yuan',\n",
       " 'Bo',\n",
       " 'Gu',\n",
       " 'Meng',\n",
       " 'Ping',\n",
       " 'Huang',\n",
       " 'He',\n",
       " 'Mu',\n",
       " 'Xiao',\n",
       " 'Yin',\n",
       " 'Yao',\n",
       " 'Shao',\n",
       " 'Zhan',\n",
       " 'Wang',\n",
       " 'Qi',\n",
       " 'Mao',\n",
       " 'Yu',\n",
       " 'Di',\n",
       " 'Mi',\n",
       " 'Bei',\n",
       " 'Ming',\n",
       " 'Zang',\n",
       " 'Ji',\n",
       " 'Fu',\n",
       " 'Cheng',\n",
       " 'Dai',\n",
       " 'Tan',\n",
       " 'Song',\n",
       " 'Mao',\n",
       " 'Pang',\n",
       " 'Xiong',\n",
       " 'Ji',\n",
       " 'Shu',\n",
       " 'Qu',\n",
       " 'Xiang',\n",
       " 'Zhu',\n",
       " 'Dong',\n",
       " 'Liang',\n",
       " 'Du',\n",
       " 'Ruan',\n",
       " 'Lan',\n",
       " 'Min',\n",
       " 'Xi',\n",
       " 'Ji',\n",
       " 'Ma',\n",
       " 'Qiang',\n",
       " 'Jia',\n",
       " 'Lu',\n",
       " 'Lou',\n",
       " 'Wei',\n",
       " 'Jiang',\n",
       " 'Tong',\n",
       " 'Yan',\n",
       " 'Guo',\n",
       " 'Mei',\n",
       " 'Sheng',\n",
       " 'Lin',\n",
       " 'Diao',\n",
       " 'Zhong',\n",
       " 'Xu',\n",
       " 'Qiu',\n",
       " 'Luo',\n",
       " 'Gao',\n",
       " 'Xia',\n",
       " 'Cai',\n",
       " 'Tian',\n",
       " 'Fan',\n",
       " 'Hu',\n",
       " 'Ling',\n",
       " 'Huo',\n",
       " 'Yu',\n",
       " 'Wan',\n",
       " 'Zhi',\n",
       " 'Ke',\n",
       " 'Zan',\n",
       " 'Guan',\n",
       " 'Lu',\n",
       " 'Mo',\n",
       " 'Jing',\n",
       " 'Fang',\n",
       " 'Qiu',\n",
       " 'Mou',\n",
       " 'Gan',\n",
       " 'Jie',\n",
       " 'Ying',\n",
       " 'Zong',\n",
       " 'Ding',\n",
       " 'Xuan',\n",
       " 'Ben',\n",
       " 'Deng',\n",
       " 'Yu',\n",
       " 'Dan',\n",
       " 'Hang',\n",
       " 'Hong',\n",
       " 'Bao',\n",
       " 'Zhu',\n",
       " 'Zuo',\n",
       " 'Shi',\n",
       " 'Cui',\n",
       " 'Ji',\n",
       " 'Niu',\n",
       " 'Gong',\n",
       " 'Cheng',\n",
       " 'Ji',\n",
       " 'Xing',\n",
       " 'Hua',\n",
       " 'Pei',\n",
       " 'Lu',\n",
       " 'Rong',\n",
       " 'Weng',\n",
       " 'Xun',\n",
       " 'Yang',\n",
       " 'Yu',\n",
       " 'Hui',\n",
       " 'Zhen',\n",
       " 'Qu',\n",
       " 'Jia',\n",
       " 'Feng',\n",
       " 'Rui',\n",
       " 'Yi',\n",
       " 'Chu',\n",
       " 'Jin',\n",
       " 'Ji',\n",
       " 'Bing',\n",
       " 'Mi',\n",
       " 'Song',\n",
       " 'Jing',\n",
       " 'Duan',\n",
       " 'Fu',\n",
       " 'Wu',\n",
       " 'Wu',\n",
       " 'Jiao',\n",
       " 'Ba',\n",
       " 'Gong',\n",
       " 'Mu',\n",
       " 'Kui',\n",
       " 'Shan',\n",
       " 'Gu',\n",
       " 'Che',\n",
       " 'Hou',\n",
       " 'Mi',\n",
       " 'Peng',\n",
       " 'Quan',\n",
       " 'Xi',\n",
       " 'Ban',\n",
       " 'Yang',\n",
       " 'Qiu',\n",
       " 'Zhong',\n",
       " 'Yi',\n",
       " 'Gong',\n",
       " 'Ning',\n",
       " 'Chou',\n",
       " 'Luan',\n",
       " 'Bao',\n",
       " 'Gan',\n",
       " 'Tou',\n",
       " 'Li',\n",
       " 'Rong',\n",
       " 'Zu',\n",
       " 'Wu',\n",
       " 'Fu',\n",
       " 'Liu']"
      ]
     },
     "execution_count": 39,
     "metadata": {},
     "output_type": "execute_result"
    }
   ],
   "source": [
    "name_list"
   ]
  },
  {
   "cell_type": "code",
   "execution_count": 40,
   "id": "1a006b26",
   "metadata": {},
   "outputs": [],
   "source": [
    "names = list(set(name_list))"
   ]
  },
  {
   "cell_type": "code",
   "execution_count": 41,
   "id": "796afa50",
   "metadata": {},
   "outputs": [
    {
     "name": "stdout",
     "output_type": "stream",
     "text": [
      "252 169\n"
     ]
    }
   ],
   "source": [
    "print(len(name_list),len(names))"
   ]
  },
  {
   "cell_type": "code",
   "execution_count": 42,
   "id": "e96b4347",
   "metadata": {},
   "outputs": [
    {
     "data": {
      "text/plain": [
       "'Zong'"
      ]
     },
     "execution_count": 42,
     "metadata": {},
     "output_type": "execute_result"
    }
   ],
   "source": [
    "import random\n",
    "random.choice(names)"
   ]
  },
  {
   "cell_type": "code",
   "execution_count": 43,
   "id": "4fd65a69",
   "metadata": {},
   "outputs": [
    {
     "data": {
      "text/plain": [
       "'Tong'"
      ]
     },
     "execution_count": 43,
     "metadata": {},
     "output_type": "execute_result"
    }
   ],
   "source": [
    "random.choice(names)"
   ]
  },
  {
   "cell_type": "code",
   "execution_count": 44,
   "id": "44f7b665",
   "metadata": {},
   "outputs": [
    {
     "data": {
      "text/plain": [
       "82"
      ]
     },
     "execution_count": 44,
     "metadata": {},
     "output_type": "execute_result"
    }
   ],
   "source": [
    "random.randint(0,100)"
   ]
  },
  {
   "cell_type": "code",
   "execution_count": 45,
   "id": "46283436",
   "metadata": {},
   "outputs": [
    {
     "data": {
      "text/plain": [
       "96.01047386386287"
      ]
     },
     "execution_count": 45,
     "metadata": {},
     "output_type": "execute_result"
    }
   ],
   "source": [
    "random.gauss(75,20)"
   ]
  },
  {
   "cell_type": "code",
   "execution_count": 47,
   "id": "6423707a",
   "metadata": {},
   "outputs": [
    {
     "data": {
      "text/plain": [
       "[86,\n",
       " 91,\n",
       " 84,\n",
       " 87,\n",
       " 91,\n",
       " 117,\n",
       " 54,\n",
       " 60,\n",
       " 117,\n",
       " 97,\n",
       " 113,\n",
       " 106,\n",
       " 43,\n",
       " 73,\n",
       " 81,\n",
       " 57,\n",
       " 64,\n",
       " 62,\n",
       " 53,\n",
       " 69,\n",
       " 71,\n",
       " 78,\n",
       " 52,\n",
       " 76,\n",
       " 104,\n",
       " 63,\n",
       " 65,\n",
       " 86,\n",
       " 76,\n",
       " 90,\n",
       " 96,\n",
       " 48,\n",
       " 54,\n",
       " 71,\n",
       " 63,\n",
       " 97,\n",
       " 88,\n",
       " 61,\n",
       " 80,\n",
       " 87,\n",
       " 53,\n",
       " 78,\n",
       " 58,\n",
       " 38,\n",
       " 64,\n",
       " 89,\n",
       " 93,\n",
       " 90,\n",
       " 83,\n",
       " 72,\n",
       " 51,\n",
       " 56,\n",
       " 111,\n",
       " 51,\n",
       " 70,\n",
       " 47,\n",
       " 97,\n",
       " 60,\n",
       " 67,\n",
       " 76,\n",
       " 53,\n",
       " 59,\n",
       " 57,\n",
       " 75,\n",
       " 70,\n",
       " 104,\n",
       " 24,\n",
       " 87,\n",
       " 75,\n",
       " 85,\n",
       " 74,\n",
       " 54,\n",
       " 88,\n",
       " 98,\n",
       " 112,\n",
       " 59,\n",
       " 93,\n",
       " 56,\n",
       " 61,\n",
       " 89,\n",
       " 87,\n",
       " 79,\n",
       " 58,\n",
       " 67,\n",
       " 60,\n",
       " 63,\n",
       " 98,\n",
       " 86,\n",
       " 45,\n",
       " 55,\n",
       " 58,\n",
       " 68,\n",
       " 86,\n",
       " 56,\n",
       " 100,\n",
       " 57,\n",
       " 63,\n",
       " 94,\n",
       " 86,\n",
       " 114]"
      ]
     },
     "execution_count": 47,
     "metadata": {},
     "output_type": "execute_result"
    }
   ],
   "source": [
    "import math\n",
    "[math.ceil(random.gauss(75,20)) for i in range(0,100)]"
   ]
  },
  {
   "cell_type": "code",
   "execution_count": 48,
   "id": "18890499",
   "metadata": {},
   "outputs": [],
   "source": [
    "score_template = {'physics':None,'math':None,'python':None}\n",
    "scores = score_template.copy()\n",
    "\n",
    "score_db = dict()\n",
    "for name in names:\n",
    "    score = math.ceil(random.gauss(75,20))\n",
    "    if score > 100:score = 100\n",
    "    if score < 0:score = 0\n",
    "    scores['physics'] = score\n",
    "    \n",
    "    score = math.ceil(random.gauss(75,20))\n",
    "    if score > 100:score = 100\n",
    "    if score < 0:score = 0\n",
    "    scores['math'] = score\n",
    "    \n",
    "    score = math.ceil(random.gauss(75,20))\n",
    "    if score > 100:score = 100\n",
    "    if score < 0:score = 0\n",
    "    scores['python'] = score\n",
    "    score_db[name] = scores"
   ]
  },
  {
   "cell_type": "code",
   "execution_count": 50,
   "id": "2c16db8d",
   "metadata": {},
   "outputs": [
    {
     "name": "stdout",
     "output_type": "stream",
     "text": [
      "100\n"
     ]
    }
   ],
   "source": [
    "print(score_db['Cao']['physics'])"
   ]
  },
  {
   "cell_type": "code",
   "execution_count": 51,
   "id": "dff1e39f",
   "metadata": {},
   "outputs": [],
   "source": [
    "def get_random_score():\n",
    "    score = math.ceil(random.gauss(75,20))\n",
    "    if score > 100:score = 100\n",
    "    if score < 0:score = 0\n",
    "    return score\n",
    "\n",
    "score_template = {'physics':None,'math':None,'python':None}\n",
    "scores = score_template.copy()\n",
    "\n",
    "score_db = dict()\n",
    "for name in names:\n",
    "    score_db[name] = {'physics':get_random_score(),'math':get_random_score(),'python':get_random_score()}\n"
   ]
  },
  {
   "cell_type": "code",
   "execution_count": 52,
   "id": "671010eb",
   "metadata": {},
   "outputs": [
    {
     "data": {
      "text/plain": [
       "{'Luo': {'physics': 65, 'math': 100, 'python': 79},\n",
       " 'Ma': {'physics': 53, 'math': 74, 'python': 100},\n",
       " 'Ba': {'physics': 78, 'math': 64, 'python': 100},\n",
       " 'Cui': {'physics': 100, 'math': 78, 'python': 61},\n",
       " 'Xun': {'physics': 87, 'math': 68, 'python': 80},\n",
       " 'Zong': {'physics': 70, 'math': 65, 'python': 72},\n",
       " 'Di': {'physics': 73, 'math': 61, 'python': 59},\n",
       " 'Shen': {'physics': 75, 'math': 89, 'python': 94},\n",
       " 'Lan': {'physics': 99, 'math': 43, 'python': 100},\n",
       " 'Che': {'physics': 100, 'math': 88, 'python': 85},\n",
       " 'You': {'physics': 79, 'math': 68, 'python': 81},\n",
       " 'Hua': {'physics': 41, 'math': 100, 'python': 87},\n",
       " 'Fan': {'physics': 78, 'math': 92, 'python': 94},\n",
       " 'Qiu': {'physics': 69, 'math': 79, 'python': 82},\n",
       " 'Luan': {'physics': 97, 'math': 54, 'python': 40},\n",
       " 'Mi': {'physics': 64, 'math': 65, 'python': 66},\n",
       " 'Huo': {'physics': 85, 'math': 69, 'python': 76},\n",
       " 'Ling': {'physics': 71, 'math': 75, 'python': 62},\n",
       " 'Zhao': {'physics': 64, 'math': 60, 'python': 62},\n",
       " 'Ruan': {'physics': 72, 'math': 96, 'python': 36},\n",
       " 'Cao': {'physics': 83, 'math': 84, 'python': 47},\n",
       " 'Diao': {'physics': 73, 'math': 62, 'python': 72},\n",
       " 'Kong': {'physics': 56, 'math': 100, 'python': 100},\n",
       " 'Wan': {'physics': 85, 'math': 45, 'python': 62},\n",
       " 'Xing': {'physics': 93, 'math': 63, 'python': 89},\n",
       " 'Fei': {'physics': 61, 'math': 87, 'python': 77},\n",
       " 'Kang': {'physics': 55, 'math': 54, 'python': 43},\n",
       " 'Zhi': {'physics': 97, 'math': 86, 'python': 51},\n",
       " 'Hong': {'physics': 94, 'math': 87, 'python': 100},\n",
       " 'Peng': {'physics': 94, 'math': 55, 'python': 47},\n",
       " 'Zhan': {'physics': 52, 'math': 100, 'python': 73},\n",
       " 'Mu': {'physics': 100, 'math': 38, 'python': 68},\n",
       " 'Ben': {'physics': 77, 'math': 86, 'python': 50},\n",
       " 'Qian': {'physics': 60, 'math': 94, 'python': 100},\n",
       " 'Zang': {'physics': 75, 'math': 100, 'python': 80},\n",
       " 'Chang': {'physics': 73, 'math': 64, 'python': 57},\n",
       " 'Ban': {'physics': 100, 'math': 69, 'python': 62},\n",
       " 'Yao': {'physics': 53, 'math': 69, 'python': 100},\n",
       " 'Mo': {'physics': 58, 'math': 35, 'python': 84},\n",
       " 'Su': {'physics': 74, 'math': 91, 'python': 57},\n",
       " 'Yan': {'physics': 92, 'math': 71, 'python': 62},\n",
       " 'Wang': {'physics': 79, 'math': 88, 'python': 87},\n",
       " 'Teng': {'physics': 66, 'math': 100, 'python': 92},\n",
       " 'Lei': {'physics': 53, 'math': 63, 'python': 68},\n",
       " 'Zhou': {'physics': 72, 'math': 83, 'python': 100},\n",
       " 'Meng': {'physics': 79, 'math': 69, 'python': 85},\n",
       " 'Shu': {'physics': 85, 'math': 45, 'python': 75},\n",
       " 'Zan': {'physics': 65, 'math': 95, 'python': 97},\n",
       " 'Yi': {'physics': 57, 'math': 100, 'python': 61},\n",
       " 'He': {'physics': 64, 'math': 73, 'python': 66},\n",
       " 'Pi': {'physics': 83, 'math': 56, 'python': 68},\n",
       " 'Feng': {'physics': 83, 'math': 48, 'python': 79},\n",
       " 'Shui': {'physics': 100, 'math': 84, 'python': 95},\n",
       " 'Quan': {'physics': 81, 'math': 36, 'python': 57},\n",
       " 'Weng': {'physics': 89, 'math': 82, 'python': 61},\n",
       " 'Xue': {'physics': 48, 'math': 54, 'python': 100},\n",
       " 'Guan': {'physics': 89, 'math': 95, 'python': 73},\n",
       " 'Tian': {'physics': 82, 'math': 72, 'python': 66},\n",
       " 'Sun': {'physics': 26, 'math': 87, 'python': 100},\n",
       " 'Chu': {'physics': 92, 'math': 88, 'python': 80},\n",
       " 'Hu': {'physics': 63, 'math': 78, 'python': 79},\n",
       " 'Han': {'physics': 87, 'math': 100, 'python': 53},\n",
       " 'Sheng': {'physics': 75, 'math': 87, 'python': 71},\n",
       " 'Gan': {'physics': 57, 'math': 71, 'python': 78},\n",
       " 'Xie': {'physics': 59, 'math': 64, 'python': 76},\n",
       " 'Cen': {'physics': 100, 'math': 76, 'python': 92},\n",
       " 'Liu': {'physics': 83, 'math': 57, 'python': 44},\n",
       " 'Mao': {'physics': 100, 'math': 100, 'python': 85},\n",
       " 'Gao': {'physics': 60, 'math': 80, 'python': 70},\n",
       " 'Ji': {'physics': 89, 'math': 51, 'python': 85},\n",
       " 'Gong': {'physics': 76, 'math': 81, 'python': 78},\n",
       " 'Zheng': {'physics': 50, 'math': 80, 'python': 68},\n",
       " 'Dong': {'physics': 89, 'math': 58, 'python': 100},\n",
       " 'Tao': {'physics': 93, 'math': 100, 'python': 81},\n",
       " 'Le': {'physics': 74, 'math': 55, 'python': 94},\n",
       " 'Mei': {'physics': 69, 'math': 100, 'python': 32},\n",
       " 'Bing': {'physics': 90, 'math': 94, 'python': 17},\n",
       " 'Bao': {'physics': 47, 'math': 59, 'python': 90},\n",
       " 'Mou': {'physics': 55, 'math': 87, 'python': 100},\n",
       " 'Xia': {'physics': 42, 'math': 92, 'python': 68},\n",
       " 'Xiang': {'physics': 72, 'math': 59, 'python': 68},\n",
       " 'Jiao': {'physics': 73, 'math': 84, 'python': 70},\n",
       " 'Chou': {'physics': 33, 'math': 76, 'python': 81},\n",
       " 'Cai': {'physics': 80, 'math': 74, 'python': 75},\n",
       " 'Wei': {'physics': 94, 'math': 82, 'python': 98},\n",
       " 'Zhang': {'physics': 95, 'math': 70, 'python': 70},\n",
       " 'Ning': {'physics': 96, 'math': 71, 'python': 76},\n",
       " 'Ge': {'physics': 73, 'math': 69, 'python': 67},\n",
       " 'Bi': {'physics': 83, 'math': 32, 'python': 100},\n",
       " 'Hou': {'physics': 76, 'math': 78, 'python': 70},\n",
       " 'Lin': {'physics': 87, 'math': 86, 'python': 53},\n",
       " 'Guo': {'physics': 83, 'math': 68, 'python': 96},\n",
       " 'Xu': {'physics': 100, 'math': 100, 'python': 57},\n",
       " 'Huang': {'physics': 50, 'math': 67, 'python': 73},\n",
       " 'Qin': {'physics': 75, 'math': 93, 'python': 100},\n",
       " 'Fang': {'physics': 70, 'math': 76, 'python': 25},\n",
       " 'Xiao': {'physics': 91, 'math': 93, 'python': 79},\n",
       " 'Tong': {'physics': 60, 'math': 69, 'python': 100},\n",
       " 'Song': {'physics': 50, 'math': 46, 'python': 87},\n",
       " 'Liang': {'physics': 53, 'math': 76, 'python': 70},\n",
       " 'Ying': {'physics': 61, 'math': 70, 'python': 54},\n",
       " 'Dan': {'physics': 71, 'math': 81, 'python': 100},\n",
       " 'Niu': {'physics': 81, 'math': 100, 'python': 100},\n",
       " 'Tou': {'physics': 72, 'math': 65, 'python': 65},\n",
       " 'Qi': {'physics': 91, 'math': 51, 'python': 85},\n",
       " 'Ming': {'physics': 81, 'math': 77, 'python': 74},\n",
       " 'Pang': {'physics': 86, 'math': 23, 'python': 40},\n",
       " 'Bai': {'physics': 60, 'math': 92, 'python': 86},\n",
       " 'Jing': {'physics': 75, 'math': 95, 'python': 75},\n",
       " 'Bo': {'physics': 78, 'math': 62, 'python': 64},\n",
       " 'Xi': {'physics': 75, 'math': 79, 'python': 94},\n",
       " 'Shan': {'physics': 88, 'math': 51, 'python': 71},\n",
       " 'Zhong': {'physics': 80, 'math': 62, 'python': 77},\n",
       " 'Pan': {'physics': 66, 'math': 34, 'python': 30},\n",
       " 'Jiang': {'physics': 85, 'math': 61, 'python': 76},\n",
       " 'Lu': {'physics': 90, 'math': 64, 'python': 67},\n",
       " 'Hang': {'physics': 24, 'math': 95, 'python': 82},\n",
       " 'Gu': {'physics': 71, 'math': 85, 'python': 63},\n",
       " 'Zhen': {'physics': 90, 'math': 80, 'python': 32},\n",
       " 'Ni': {'physics': 90, 'math': 84, 'python': 100},\n",
       " 'Dai': {'physics': 75, 'math': 78, 'python': 66},\n",
       " 'Qu': {'physics': 100, 'math': 67, 'python': 79},\n",
       " 'Zuo': {'physics': 52, 'math': 77, 'python': 78},\n",
       " 'Tang': {'physics': 44, 'math': 62, 'python': 84},\n",
       " 'Xuan': {'physics': 64, 'math': 91, 'python': 93},\n",
       " 'Qiang': {'physics': 98, 'math': 88, 'python': 94},\n",
       " 'Xiong': {'physics': 67, 'math': 89, 'python': 93},\n",
       " 'Du': {'physics': 92, 'math': 58, 'python': 77},\n",
       " 'Ren': {'physics': 72, 'math': 74, 'python': 55},\n",
       " 'Yu': {'physics': 97, 'math': 20, 'python': 55},\n",
       " 'Lv': {'physics': 88, 'math': 81, 'python': 77},\n",
       " 'Chen': {'physics': 100, 'math': 69, 'python': 100},\n",
       " 'Ping': {'physics': 64, 'math': 100, 'python': 45},\n",
       " 'Wu': {'physics': 55, 'math': 84, 'python': 100},\n",
       " 'Bei': {'physics': 55, 'math': 37, 'python': 92},\n",
       " 'Shao': {'physics': 57, 'math': 92, 'python': 100},\n",
       " 'Bian': {'physics': 91, 'math': 97, 'python': 22},\n",
       " 'Miao': {'physics': 50, 'math': 67, 'python': 58},\n",
       " 'Jin': {'physics': 77, 'math': 77, 'python': 79},\n",
       " 'Fu': {'physics': 65, 'math': 66, 'python': 79},\n",
       " 'Deng': {'physics': 58, 'math': 59, 'python': 83},\n",
       " 'Duan': {'physics': 91, 'math': 69, 'python': 100},\n",
       " 'Zhu': {'physics': 100, 'math': 72, 'python': 70},\n",
       " 'Shi': {'physics': 68, 'math': 41, 'python': 92},\n",
       " 'Jia': {'physics': 46, 'math': 44, 'python': 68},\n",
       " 'Yuan': {'physics': 84, 'math': 86, 'python': 67},\n",
       " 'An': {'physics': 86, 'math': 64, 'python': 59},\n",
       " 'Ke': {'physics': 72, 'math': 45, 'python': 83},\n",
       " 'Li': {'physics': 62, 'math': 71, 'python': 79},\n",
       " 'Zou': {'physics': 61, 'math': 76, 'python': 72},\n",
       " 'Zu': {'physics': 69, 'math': 72, 'python': 100},\n",
       " 'Min': {'physics': 65, 'math': 36, 'python': 100},\n",
       " 'Hui': {'physics': 86, 'math': 82, 'python': 76},\n",
       " 'Tan': {'physics': 100, 'math': 91, 'python': 100},\n",
       " 'Lang': {'physics': 91, 'math': 75, 'python': 61},\n",
       " 'Cheng': {'physics': 96, 'math': 100, 'python': 55},\n",
       " 'Jie': {'physics': 95, 'math': 87, 'python': 86},\n",
       " 'Ding': {'physics': 57, 'math': 73, 'python': 71},\n",
       " 'Lou': {'physics': 100, 'math': 97, 'python': 88},\n",
       " 'Rui': {'physics': 72, 'math': 56, 'python': 94},\n",
       " 'Yang': {'physics': 44, 'math': 76, 'python': 79},\n",
       " 'Yin': {'physics': 100, 'math': 42, 'python': 100},\n",
       " 'Kui': {'physics': 79, 'math': 59, 'python': 95},\n",
       " 'Hao': {'physics': 71, 'math': 60, 'python': 92},\n",
       " 'Pei': {'physics': 69, 'math': 84, 'python': 79},\n",
       " 'Rong': {'physics': 82, 'math': 94, 'python': 100},\n",
       " 'Lian': {'physics': 66, 'math': 100, 'python': 66},\n",
       " 'Dou': {'physics': 83, 'math': 81, 'python': 57},\n",
       " 'Yun': {'physics': 79, 'math': 65, 'python': 97}}"
      ]
     },
     "execution_count": 52,
     "metadata": {},
     "output_type": "execute_result"
    }
   ],
   "source": [
    "score_db"
   ]
  },
  {
   "cell_type": "code",
   "execution_count": 53,
   "id": "69f70f99",
   "metadata": {},
   "outputs": [],
   "source": [
    "score_db = {name:{'physics':get_random_score(),'math':get_random_score(),'python':get_random_score()} for name in names}"
   ]
  },
  {
   "cell_type": "code",
   "execution_count": 54,
   "id": "82c4b022",
   "metadata": {},
   "outputs": [
    {
     "data": {
      "text/plain": [
       "{'Luo': {'physics': 80, 'math': 83, 'python': 72},\n",
       " 'Ma': {'physics': 66, 'math': 100, 'python': 65},\n",
       " 'Ba': {'physics': 79, 'math': 100, 'python': 47},\n",
       " 'Cui': {'physics': 91, 'math': 82, 'python': 73},\n",
       " 'Xun': {'physics': 74, 'math': 57, 'python': 64},\n",
       " 'Zong': {'physics': 55, 'math': 28, 'python': 61},\n",
       " 'Di': {'physics': 75, 'math': 69, 'python': 55},\n",
       " 'Shen': {'physics': 61, 'math': 90, 'python': 34},\n",
       " 'Lan': {'physics': 97, 'math': 100, 'python': 34},\n",
       " 'Che': {'physics': 84, 'math': 100, 'python': 71},\n",
       " 'You': {'physics': 93, 'math': 51, 'python': 63},\n",
       " 'Hua': {'physics': 66, 'math': 85, 'python': 92},\n",
       " 'Fan': {'physics': 76, 'math': 93, 'python': 53},\n",
       " 'Qiu': {'physics': 91, 'math': 61, 'python': 80},\n",
       " 'Luan': {'physics': 60, 'math': 83, 'python': 53},\n",
       " 'Mi': {'physics': 100, 'math': 60, 'python': 66},\n",
       " 'Huo': {'physics': 68, 'math': 48, 'python': 65},\n",
       " 'Ling': {'physics': 80, 'math': 85, 'python': 54},\n",
       " 'Zhao': {'physics': 54, 'math': 26, 'python': 68},\n",
       " 'Ruan': {'physics': 74, 'math': 42, 'python': 93},\n",
       " 'Cao': {'physics': 78, 'math': 75, 'python': 53},\n",
       " 'Diao': {'physics': 69, 'math': 82, 'python': 88},\n",
       " 'Kong': {'physics': 65, 'math': 99, 'python': 51},\n",
       " 'Wan': {'physics': 60, 'math': 81, 'python': 98},\n",
       " 'Xing': {'physics': 69, 'math': 94, 'python': 70},\n",
       " 'Fei': {'physics': 67, 'math': 60, 'python': 96},\n",
       " 'Kang': {'physics': 78, 'math': 81, 'python': 84},\n",
       " 'Zhi': {'physics': 93, 'math': 94, 'python': 76},\n",
       " 'Hong': {'physics': 87, 'math': 47, 'python': 37},\n",
       " 'Peng': {'physics': 73, 'math': 79, 'python': 76},\n",
       " 'Zhan': {'physics': 90, 'math': 64, 'python': 80},\n",
       " 'Mu': {'physics': 83, 'math': 100, 'python': 58},\n",
       " 'Ben': {'physics': 67, 'math': 47, 'python': 100},\n",
       " 'Qian': {'physics': 66, 'math': 71, 'python': 65},\n",
       " 'Zang': {'physics': 81, 'math': 48, 'python': 87},\n",
       " 'Chang': {'physics': 77, 'math': 61, 'python': 92},\n",
       " 'Ban': {'physics': 98, 'math': 83, 'python': 74},\n",
       " 'Yao': {'physics': 70, 'math': 87, 'python': 73},\n",
       " 'Mo': {'physics': 72, 'math': 47, 'python': 79},\n",
       " 'Su': {'physics': 63, 'math': 83, 'python': 67},\n",
       " 'Yan': {'physics': 57, 'math': 91, 'python': 84},\n",
       " 'Wang': {'physics': 100, 'math': 70, 'python': 57},\n",
       " 'Teng': {'physics': 85, 'math': 87, 'python': 74},\n",
       " 'Lei': {'physics': 72, 'math': 83, 'python': 100},\n",
       " 'Zhou': {'physics': 60, 'math': 100, 'python': 59},\n",
       " 'Meng': {'physics': 82, 'math': 76, 'python': 79},\n",
       " 'Shu': {'physics': 91, 'math': 73, 'python': 65},\n",
       " 'Zan': {'physics': 72, 'math': 100, 'python': 86},\n",
       " 'Yi': {'physics': 87, 'math': 63, 'python': 63},\n",
       " 'He': {'physics': 60, 'math': 68, 'python': 96},\n",
       " 'Pi': {'physics': 84, 'math': 77, 'python': 77},\n",
       " 'Feng': {'physics': 90, 'math': 81, 'python': 68},\n",
       " 'Shui': {'physics': 75, 'math': 80, 'python': 27},\n",
       " 'Quan': {'physics': 77, 'math': 65, 'python': 95},\n",
       " 'Weng': {'physics': 60, 'math': 88, 'python': 74},\n",
       " 'Xue': {'physics': 81, 'math': 71, 'python': 90},\n",
       " 'Guan': {'physics': 82, 'math': 76, 'python': 79},\n",
       " 'Tian': {'physics': 65, 'math': 100, 'python': 52},\n",
       " 'Sun': {'physics': 83, 'math': 96, 'python': 71},\n",
       " 'Chu': {'physics': 91, 'math': 74, 'python': 100},\n",
       " 'Hu': {'physics': 100, 'math': 38, 'python': 66},\n",
       " 'Han': {'physics': 99, 'math': 64, 'python': 65},\n",
       " 'Sheng': {'physics': 81, 'math': 90, 'python': 96},\n",
       " 'Gan': {'physics': 66, 'math': 51, 'python': 46},\n",
       " 'Xie': {'physics': 77, 'math': 88, 'python': 82},\n",
       " 'Cen': {'physics': 77, 'math': 82, 'python': 70},\n",
       " 'Liu': {'physics': 96, 'math': 80, 'python': 100},\n",
       " 'Mao': {'physics': 100, 'math': 50, 'python': 100},\n",
       " 'Gao': {'physics': 62, 'math': 71, 'python': 76},\n",
       " 'Ji': {'physics': 99, 'math': 63, 'python': 44},\n",
       " 'Gong': {'physics': 72, 'math': 80, 'python': 85},\n",
       " 'Zheng': {'physics': 78, 'math': 84, 'python': 66},\n",
       " 'Dong': {'physics': 89, 'math': 73, 'python': 89},\n",
       " 'Tao': {'physics': 95, 'math': 72, 'python': 58},\n",
       " 'Le': {'physics': 82, 'math': 60, 'python': 97},\n",
       " 'Mei': {'physics': 60, 'math': 73, 'python': 65},\n",
       " 'Bing': {'physics': 60, 'math': 92, 'python': 50},\n",
       " 'Bao': {'physics': 43, 'math': 77, 'python': 83},\n",
       " 'Mou': {'physics': 87, 'math': 35, 'python': 69},\n",
       " 'Xia': {'physics': 100, 'math': 44, 'python': 64},\n",
       " 'Xiang': {'physics': 54, 'math': 100, 'python': 100},\n",
       " 'Jiao': {'physics': 100, 'math': 87, 'python': 44},\n",
       " 'Chou': {'physics': 90, 'math': 100, 'python': 46},\n",
       " 'Cai': {'physics': 63, 'math': 59, 'python': 100},\n",
       " 'Wei': {'physics': 100, 'math': 62, 'python': 100},\n",
       " 'Zhang': {'physics': 100, 'math': 71, 'python': 69},\n",
       " 'Ning': {'physics': 69, 'math': 47, 'python': 88},\n",
       " 'Ge': {'physics': 100, 'math': 60, 'python': 88},\n",
       " 'Bi': {'physics': 55, 'math': 85, 'python': 65},\n",
       " 'Hou': {'physics': 90, 'math': 100, 'python': 72},\n",
       " 'Lin': {'physics': 92, 'math': 59, 'python': 55},\n",
       " 'Guo': {'physics': 79, 'math': 59, 'python': 96},\n",
       " 'Xu': {'physics': 66, 'math': 80, 'python': 80},\n",
       " 'Huang': {'physics': 66, 'math': 80, 'python': 78},\n",
       " 'Qin': {'physics': 88, 'math': 84, 'python': 80},\n",
       " 'Fang': {'physics': 98, 'math': 100, 'python': 73},\n",
       " 'Xiao': {'physics': 72, 'math': 72, 'python': 78},\n",
       " 'Tong': {'physics': 83, 'math': 65, 'python': 74},\n",
       " 'Song': {'physics': 100, 'math': 98, 'python': 57},\n",
       " 'Liang': {'physics': 98, 'math': 80, 'python': 50},\n",
       " 'Ying': {'physics': 42, 'math': 37, 'python': 99},\n",
       " 'Dan': {'physics': 97, 'math': 60, 'python': 78},\n",
       " 'Niu': {'physics': 48, 'math': 57, 'python': 55},\n",
       " 'Tou': {'physics': 80, 'math': 88, 'python': 51},\n",
       " 'Qi': {'physics': 92, 'math': 91, 'python': 50},\n",
       " 'Ming': {'physics': 80, 'math': 68, 'python': 62},\n",
       " 'Pang': {'physics': 100, 'math': 51, 'python': 60},\n",
       " 'Bai': {'physics': 88, 'math': 21, 'python': 74},\n",
       " 'Jing': {'physics': 91, 'math': 77, 'python': 72},\n",
       " 'Bo': {'physics': 85, 'math': 100, 'python': 65},\n",
       " 'Xi': {'physics': 84, 'math': 21, 'python': 83},\n",
       " 'Shan': {'physics': 60, 'math': 37, 'python': 86},\n",
       " 'Zhong': {'physics': 100, 'math': 100, 'python': 57},\n",
       " 'Pan': {'physics': 98, 'math': 88, 'python': 87},\n",
       " 'Jiang': {'physics': 82, 'math': 74, 'python': 100},\n",
       " 'Lu': {'physics': 95, 'math': 65, 'python': 82},\n",
       " 'Hang': {'physics': 83, 'math': 86, 'python': 68},\n",
       " 'Gu': {'physics': 72, 'math': 79, 'python': 72},\n",
       " 'Zhen': {'physics': 74, 'math': 100, 'python': 100},\n",
       " 'Ni': {'physics': 87, 'math': 43, 'python': 44},\n",
       " 'Dai': {'physics': 72, 'math': 74, 'python': 67},\n",
       " 'Qu': {'physics': 66, 'math': 94, 'python': 53},\n",
       " 'Zuo': {'physics': 55, 'math': 85, 'python': 42},\n",
       " 'Tang': {'physics': 43, 'math': 88, 'python': 90},\n",
       " 'Xuan': {'physics': 88, 'math': 100, 'python': 87},\n",
       " 'Qiang': {'physics': 61, 'math': 74, 'python': 73},\n",
       " 'Xiong': {'physics': 100, 'math': 40, 'python': 79},\n",
       " 'Du': {'physics': 71, 'math': 72, 'python': 85},\n",
       " 'Ren': {'physics': 100, 'math': 64, 'python': 64},\n",
       " 'Yu': {'physics': 64, 'math': 72, 'python': 32},\n",
       " 'Lv': {'physics': 67, 'math': 68, 'python': 64},\n",
       " 'Chen': {'physics': 72, 'math': 49, 'python': 67},\n",
       " 'Ping': {'physics': 35, 'math': 68, 'python': 60},\n",
       " 'Wu': {'physics': 61, 'math': 100, 'python': 100},\n",
       " 'Bei': {'physics': 63, 'math': 100, 'python': 76},\n",
       " 'Shao': {'physics': 72, 'math': 78, 'python': 81},\n",
       " 'Bian': {'physics': 68, 'math': 88, 'python': 86},\n",
       " 'Miao': {'physics': 94, 'math': 100, 'python': 85},\n",
       " 'Jin': {'physics': 86, 'math': 78, 'python': 66},\n",
       " 'Fu': {'physics': 66, 'math': 51, 'python': 72},\n",
       " 'Deng': {'physics': 83, 'math': 52, 'python': 75},\n",
       " 'Duan': {'physics': 24, 'math': 48, 'python': 60},\n",
       " 'Zhu': {'physics': 94, 'math': 82, 'python': 65},\n",
       " 'Shi': {'physics': 57, 'math': 63, 'python': 100},\n",
       " 'Jia': {'physics': 62, 'math': 100, 'python': 99},\n",
       " 'Yuan': {'physics': 70, 'math': 63, 'python': 63},\n",
       " 'An': {'physics': 52, 'math': 90, 'python': 90},\n",
       " 'Ke': {'physics': 71, 'math': 48, 'python': 100},\n",
       " 'Li': {'physics': 73, 'math': 79, 'python': 100},\n",
       " 'Zou': {'physics': 75, 'math': 51, 'python': 70},\n",
       " 'Zu': {'physics': 74, 'math': 77, 'python': 52},\n",
       " 'Min': {'physics': 86, 'math': 68, 'python': 68},\n",
       " 'Hui': {'physics': 61, 'math': 72, 'python': 24},\n",
       " 'Tan': {'physics': 49, 'math': 96, 'python': 17},\n",
       " 'Lang': {'physics': 78, 'math': 84, 'python': 96},\n",
       " 'Cheng': {'physics': 81, 'math': 95, 'python': 55},\n",
       " 'Jie': {'physics': 38, 'math': 95, 'python': 100},\n",
       " 'Ding': {'physics': 80, 'math': 74, 'python': 92},\n",
       " 'Lou': {'physics': 64, 'math': 86, 'python': 86},\n",
       " 'Rui': {'physics': 79, 'math': 100, 'python': 100},\n",
       " 'Yang': {'physics': 63, 'math': 50, 'python': 72},\n",
       " 'Yin': {'physics': 100, 'math': 58, 'python': 100},\n",
       " 'Kui': {'physics': 36, 'math': 80, 'python': 70},\n",
       " 'Hao': {'physics': 61, 'math': 53, 'python': 85},\n",
       " 'Pei': {'physics': 100, 'math': 100, 'python': 75},\n",
       " 'Rong': {'physics': 59, 'math': 64, 'python': 100},\n",
       " 'Lian': {'physics': 88, 'math': 100, 'python': 59},\n",
       " 'Dou': {'physics': 72, 'math': 76, 'python': 100},\n",
       " 'Yun': {'physics': 68, 'math': 72, 'python': 69}}"
      ]
     },
     "execution_count": 54,
     "metadata": {},
     "output_type": "execute_result"
    }
   ],
   "source": [
    "score_db"
   ]
  },
  {
   "cell_type": "code",
   "execution_count": 57,
   "id": "e84c5cd9",
   "metadata": {},
   "outputs": [
    {
     "name": "stdout",
     "output_type": "stream",
     "text": [
      "please input a name: Dan\n",
      "Physics:97\n",
      "Math:60\n",
      "Python:78\n",
      "Total:235\n"
     ]
    }
   ],
   "source": [
    "name = input('please input a name: ')\n",
    "print(f\"Physics:{score_db[name]['physics']}\")\n",
    "print(f\"Math:{score_db[name]['math']}\")\n",
    "print(f\"Python:{score_db[name]['python']}\")\n",
    "print(f\"Total:{score_db[name]['physics']+score_db[name]['python']+score_db[name]['math']}\")"
   ]
  },
  {
   "cell_type": "code",
   "execution_count": null,
   "id": "cd797c2e",
   "metadata": {},
   "outputs": [],
   "source": [
    "import json\n",
    "with open('d:\\\\score_db.json','w') as f:\n",
    "    json.dump(score_db,f)"
   ]
  },
  {
   "cell_type": "code",
   "execution_count": null,
   "id": "440fb5a6",
   "metadata": {},
   "outputs": [],
   "source": [
    "import json\n",
    "with open('d:\\\\score_db.json') as f:\n",
    "    score_db = json.load(f)"
   ]
  },
  {
   "cell_type": "code",
   "execution_count": 58,
   "id": "3db768a2",
   "metadata": {},
   "outputs": [
    {
     "data": {
      "text/plain": [
       "{'Luo': {'physics': 80, 'math': 83, 'python': 72},\n",
       " 'Ma': {'physics': 66, 'math': 100, 'python': 65},\n",
       " 'Ba': {'physics': 79, 'math': 100, 'python': 47},\n",
       " 'Cui': {'physics': 91, 'math': 82, 'python': 73},\n",
       " 'Xun': {'physics': 74, 'math': 57, 'python': 64},\n",
       " 'Zong': {'physics': 55, 'math': 28, 'python': 61},\n",
       " 'Di': {'physics': 75, 'math': 69, 'python': 55},\n",
       " 'Shen': {'physics': 61, 'math': 90, 'python': 34},\n",
       " 'Lan': {'physics': 97, 'math': 100, 'python': 34},\n",
       " 'Che': {'physics': 84, 'math': 100, 'python': 71},\n",
       " 'You': {'physics': 93, 'math': 51, 'python': 63},\n",
       " 'Hua': {'physics': 66, 'math': 85, 'python': 92},\n",
       " 'Fan': {'physics': 76, 'math': 93, 'python': 53},\n",
       " 'Qiu': {'physics': 91, 'math': 61, 'python': 80},\n",
       " 'Luan': {'physics': 60, 'math': 83, 'python': 53},\n",
       " 'Mi': {'physics': 100, 'math': 60, 'python': 66},\n",
       " 'Huo': {'physics': 68, 'math': 48, 'python': 65},\n",
       " 'Ling': {'physics': 80, 'math': 85, 'python': 54},\n",
       " 'Zhao': {'physics': 54, 'math': 26, 'python': 68},\n",
       " 'Ruan': {'physics': 74, 'math': 42, 'python': 93},\n",
       " 'Cao': {'physics': 78, 'math': 75, 'python': 53},\n",
       " 'Diao': {'physics': 69, 'math': 82, 'python': 88},\n",
       " 'Kong': {'physics': 65, 'math': 99, 'python': 51},\n",
       " 'Wan': {'physics': 60, 'math': 81, 'python': 98},\n",
       " 'Xing': {'physics': 69, 'math': 94, 'python': 70},\n",
       " 'Fei': {'physics': 67, 'math': 60, 'python': 96},\n",
       " 'Kang': {'physics': 78, 'math': 81, 'python': 84},\n",
       " 'Zhi': {'physics': 93, 'math': 94, 'python': 76},\n",
       " 'Hong': {'physics': 87, 'math': 47, 'python': 37},\n",
       " 'Peng': {'physics': 73, 'math': 79, 'python': 76},\n",
       " 'Zhan': {'physics': 90, 'math': 64, 'python': 80},\n",
       " 'Mu': {'physics': 83, 'math': 100, 'python': 58},\n",
       " 'Ben': {'physics': 67, 'math': 47, 'python': 100},\n",
       " 'Qian': {'physics': 66, 'math': 71, 'python': 65},\n",
       " 'Zang': {'physics': 81, 'math': 48, 'python': 87},\n",
       " 'Chang': {'physics': 77, 'math': 61, 'python': 92},\n",
       " 'Ban': {'physics': 98, 'math': 83, 'python': 74},\n",
       " 'Yao': {'physics': 70, 'math': 87, 'python': 73},\n",
       " 'Mo': {'physics': 72, 'math': 47, 'python': 79},\n",
       " 'Su': {'physics': 63, 'math': 83, 'python': 67},\n",
       " 'Yan': {'physics': 57, 'math': 91, 'python': 84},\n",
       " 'Wang': {'physics': 100, 'math': 70, 'python': 57},\n",
       " 'Teng': {'physics': 85, 'math': 87, 'python': 74},\n",
       " 'Lei': {'physics': 72, 'math': 83, 'python': 100},\n",
       " 'Zhou': {'physics': 60, 'math': 100, 'python': 59},\n",
       " 'Meng': {'physics': 82, 'math': 76, 'python': 79},\n",
       " 'Shu': {'physics': 91, 'math': 73, 'python': 65},\n",
       " 'Zan': {'physics': 72, 'math': 100, 'python': 86},\n",
       " 'Yi': {'physics': 87, 'math': 63, 'python': 63},\n",
       " 'He': {'physics': 60, 'math': 68, 'python': 96},\n",
       " 'Pi': {'physics': 84, 'math': 77, 'python': 77},\n",
       " 'Feng': {'physics': 90, 'math': 81, 'python': 68},\n",
       " 'Shui': {'physics': 75, 'math': 80, 'python': 27},\n",
       " 'Quan': {'physics': 77, 'math': 65, 'python': 95},\n",
       " 'Weng': {'physics': 60, 'math': 88, 'python': 74},\n",
       " 'Xue': {'physics': 81, 'math': 71, 'python': 90},\n",
       " 'Guan': {'physics': 82, 'math': 76, 'python': 79},\n",
       " 'Tian': {'physics': 65, 'math': 100, 'python': 52},\n",
       " 'Sun': {'physics': 83, 'math': 96, 'python': 71},\n",
       " 'Chu': {'physics': 91, 'math': 74, 'python': 100},\n",
       " 'Hu': {'physics': 100, 'math': 38, 'python': 66},\n",
       " 'Han': {'physics': 99, 'math': 64, 'python': 65},\n",
       " 'Sheng': {'physics': 81, 'math': 90, 'python': 96},\n",
       " 'Gan': {'physics': 66, 'math': 51, 'python': 46},\n",
       " 'Xie': {'physics': 77, 'math': 88, 'python': 82},\n",
       " 'Cen': {'physics': 77, 'math': 82, 'python': 70},\n",
       " 'Liu': {'physics': 96, 'math': 80, 'python': 100},\n",
       " 'Mao': {'physics': 100, 'math': 50, 'python': 100},\n",
       " 'Gao': {'physics': 62, 'math': 71, 'python': 76},\n",
       " 'Ji': {'physics': 99, 'math': 63, 'python': 44},\n",
       " 'Gong': {'physics': 72, 'math': 80, 'python': 85},\n",
       " 'Zheng': {'physics': 78, 'math': 84, 'python': 66},\n",
       " 'Dong': {'physics': 89, 'math': 73, 'python': 89},\n",
       " 'Tao': {'physics': 95, 'math': 72, 'python': 58},\n",
       " 'Le': {'physics': 82, 'math': 60, 'python': 97},\n",
       " 'Mei': {'physics': 60, 'math': 73, 'python': 65},\n",
       " 'Bing': {'physics': 60, 'math': 92, 'python': 50},\n",
       " 'Bao': {'physics': 43, 'math': 77, 'python': 83},\n",
       " 'Mou': {'physics': 87, 'math': 35, 'python': 69},\n",
       " 'Xia': {'physics': 100, 'math': 44, 'python': 64},\n",
       " 'Xiang': {'physics': 54, 'math': 100, 'python': 100},\n",
       " 'Jiao': {'physics': 100, 'math': 87, 'python': 44},\n",
       " 'Chou': {'physics': 90, 'math': 100, 'python': 46},\n",
       " 'Cai': {'physics': 63, 'math': 59, 'python': 100},\n",
       " 'Wei': {'physics': 100, 'math': 62, 'python': 100},\n",
       " 'Zhang': {'physics': 100, 'math': 71, 'python': 69},\n",
       " 'Ning': {'physics': 69, 'math': 47, 'python': 88},\n",
       " 'Ge': {'physics': 100, 'math': 60, 'python': 88},\n",
       " 'Bi': {'physics': 55, 'math': 85, 'python': 65},\n",
       " 'Hou': {'physics': 90, 'math': 100, 'python': 72},\n",
       " 'Lin': {'physics': 92, 'math': 59, 'python': 55},\n",
       " 'Guo': {'physics': 79, 'math': 59, 'python': 96},\n",
       " 'Xu': {'physics': 66, 'math': 80, 'python': 80},\n",
       " 'Huang': {'physics': 66, 'math': 80, 'python': 78},\n",
       " 'Qin': {'physics': 88, 'math': 84, 'python': 80},\n",
       " 'Fang': {'physics': 98, 'math': 100, 'python': 73},\n",
       " 'Xiao': {'physics': 72, 'math': 72, 'python': 78},\n",
       " 'Tong': {'physics': 83, 'math': 65, 'python': 74},\n",
       " 'Song': {'physics': 100, 'math': 98, 'python': 57},\n",
       " 'Liang': {'physics': 98, 'math': 80, 'python': 50},\n",
       " 'Ying': {'physics': 42, 'math': 37, 'python': 99},\n",
       " 'Dan': {'physics': 97, 'math': 60, 'python': 78},\n",
       " 'Niu': {'physics': 48, 'math': 57, 'python': 55},\n",
       " 'Tou': {'physics': 80, 'math': 88, 'python': 51},\n",
       " 'Qi': {'physics': 92, 'math': 91, 'python': 50},\n",
       " 'Ming': {'physics': 80, 'math': 68, 'python': 62},\n",
       " 'Pang': {'physics': 100, 'math': 51, 'python': 60},\n",
       " 'Bai': {'physics': 88, 'math': 21, 'python': 74},\n",
       " 'Jing': {'physics': 91, 'math': 77, 'python': 72},\n",
       " 'Bo': {'physics': 85, 'math': 100, 'python': 65},\n",
       " 'Xi': {'physics': 84, 'math': 21, 'python': 83},\n",
       " 'Shan': {'physics': 60, 'math': 37, 'python': 86},\n",
       " 'Zhong': {'physics': 100, 'math': 100, 'python': 57},\n",
       " 'Pan': {'physics': 98, 'math': 88, 'python': 87},\n",
       " 'Jiang': {'physics': 82, 'math': 74, 'python': 100},\n",
       " 'Lu': {'physics': 95, 'math': 65, 'python': 82},\n",
       " 'Hang': {'physics': 83, 'math': 86, 'python': 68},\n",
       " 'Gu': {'physics': 72, 'math': 79, 'python': 72},\n",
       " 'Zhen': {'physics': 74, 'math': 100, 'python': 100},\n",
       " 'Ni': {'physics': 87, 'math': 43, 'python': 44},\n",
       " 'Dai': {'physics': 72, 'math': 74, 'python': 67},\n",
       " 'Qu': {'physics': 66, 'math': 94, 'python': 53},\n",
       " 'Zuo': {'physics': 55, 'math': 85, 'python': 42},\n",
       " 'Tang': {'physics': 43, 'math': 88, 'python': 90},\n",
       " 'Xuan': {'physics': 88, 'math': 100, 'python': 87},\n",
       " 'Qiang': {'physics': 61, 'math': 74, 'python': 73},\n",
       " 'Xiong': {'physics': 100, 'math': 40, 'python': 79},\n",
       " 'Du': {'physics': 71, 'math': 72, 'python': 85},\n",
       " 'Ren': {'physics': 100, 'math': 64, 'python': 64},\n",
       " 'Yu': {'physics': 64, 'math': 72, 'python': 32},\n",
       " 'Lv': {'physics': 67, 'math': 68, 'python': 64},\n",
       " 'Chen': {'physics': 72, 'math': 49, 'python': 67},\n",
       " 'Ping': {'physics': 35, 'math': 68, 'python': 60},\n",
       " 'Wu': {'physics': 61, 'math': 100, 'python': 100},\n",
       " 'Bei': {'physics': 63, 'math': 100, 'python': 76},\n",
       " 'Shao': {'physics': 72, 'math': 78, 'python': 81},\n",
       " 'Bian': {'physics': 68, 'math': 88, 'python': 86},\n",
       " 'Miao': {'physics': 94, 'math': 100, 'python': 85},\n",
       " 'Jin': {'physics': 86, 'math': 78, 'python': 66},\n",
       " 'Fu': {'physics': 66, 'math': 51, 'python': 72},\n",
       " 'Deng': {'physics': 83, 'math': 52, 'python': 75},\n",
       " 'Duan': {'physics': 24, 'math': 48, 'python': 60},\n",
       " 'Zhu': {'physics': 94, 'math': 82, 'python': 65},\n",
       " 'Shi': {'physics': 57, 'math': 63, 'python': 100},\n",
       " 'Jia': {'physics': 62, 'math': 100, 'python': 99},\n",
       " 'Yuan': {'physics': 70, 'math': 63, 'python': 63},\n",
       " 'An': {'physics': 52, 'math': 90, 'python': 90},\n",
       " 'Ke': {'physics': 71, 'math': 48, 'python': 100},\n",
       " 'Li': {'physics': 73, 'math': 79, 'python': 100},\n",
       " 'Zou': {'physics': 75, 'math': 51, 'python': 70},\n",
       " 'Zu': {'physics': 74, 'math': 77, 'python': 52},\n",
       " 'Min': {'physics': 86, 'math': 68, 'python': 68},\n",
       " 'Hui': {'physics': 61, 'math': 72, 'python': 24},\n",
       " 'Tan': {'physics': 49, 'math': 96, 'python': 17},\n",
       " 'Lang': {'physics': 78, 'math': 84, 'python': 96},\n",
       " 'Cheng': {'physics': 81, 'math': 95, 'python': 55},\n",
       " 'Jie': {'physics': 38, 'math': 95, 'python': 100},\n",
       " 'Ding': {'physics': 80, 'math': 74, 'python': 92},\n",
       " 'Lou': {'physics': 64, 'math': 86, 'python': 86},\n",
       " 'Rui': {'physics': 79, 'math': 100, 'python': 100},\n",
       " 'Yang': {'physics': 63, 'math': 50, 'python': 72},\n",
       " 'Yin': {'physics': 100, 'math': 58, 'python': 100},\n",
       " 'Kui': {'physics': 36, 'math': 80, 'python': 70},\n",
       " 'Hao': {'physics': 61, 'math': 53, 'python': 85},\n",
       " 'Pei': {'physics': 100, 'math': 100, 'python': 75},\n",
       " 'Rong': {'physics': 59, 'math': 64, 'python': 100},\n",
       " 'Lian': {'physics': 88, 'math': 100, 'python': 59},\n",
       " 'Dou': {'physics': 72, 'math': 76, 'python': 100},\n",
       " 'Yun': {'physics': 68, 'math': 72, 'python': 69}}"
      ]
     },
     "execution_count": 58,
     "metadata": {},
     "output_type": "execute_result"
    }
   ],
   "source": [
    "score_db"
   ]
  },
  {
   "cell_type": "code",
   "execution_count": null,
   "id": "7134a654",
   "metadata": {},
   "outputs": [],
   "source": [
    "#按照总分排序输出\n"
   ]
  },
  {
   "cell_type": "code",
   "execution_count": 59,
   "id": "0b32d5d9",
   "metadata": {},
   "outputs": [
    {
     "data": {
      "text/plain": [
       "{'a': 1, 'b': 0}"
      ]
     },
     "execution_count": 59,
     "metadata": {},
     "output_type": "execute_result"
    }
   ],
   "source": [
    "d = dict()\n",
    "d['a'] = 1\n",
    "d.setdefault('a',0)\n",
    "d.setdefault('b',0)\n",
    "\n",
    "d"
   ]
  },
  {
   "cell_type": "code",
   "execution_count": 60,
   "id": "7a56d407",
   "metadata": {},
   "outputs": [],
   "source": [
    "text = '''\n",
    "Google today released the open source version of the differential privacy library used in some its core products, such as Google Maps. Any organization or developer can now check out the library on GitHub.\n",
    "\n",
    "Differential privacy limits the algorithms used to publish aggregate information about a statistical database. Whether you are a city planner, small business owner, or software developer, chances are you want to gain insights from the data of your citizens, customers, or users. But you don’t want to lose their trust in the process. Differentially private data analysis enables organizations to learn from the majority of their data without allowing any single individual’s data to be distinguished or re-identified.\n",
    "\n",
    "“If you are a health researcher, you may want to compare the average amount of time patients remain admitted across various hospitals in order to determine if there are differences in care,” Google product manager Miguel Guevara explains. “Differential privacy is a high-assurance, analytic means of ensuring that use cases like this are addressed in a privacy-preserving manner.”\n",
    "Differential privacy library features\n",
    "\n",
    "Google promises its library is easy for developers to deploy. It can help you perform functions that are difficult to execute from scratch, “like automatically calculating bounds on user contributions,” Guevera says. Key features include:\n",
    "\n",
    "    Statistical functions: Most common data science operations (counts, sums, averages, medians, and percentiles) are supported.\n",
    "    Rigorous testing: Besides an extensive test suite, an extensible “Stochastic Differential Privacy Model Checker library” helps prevent mistakes.\n",
    "    Ready to use: A PostgreSQL extension, along with common recipes, is included.\n",
    "    Modular: The library can be extended to include other functionalities, such as additional mechanisms, aggregation functions, or privacy budget management.\n",
    "\n",
    "This isn’t Google’s first differential privacy rodeo, but the company has been particularly busy in the space this yThis isn’t Google’s first differential privacy rodeo, but the company has been particularly busy in the space this year. In March, Google released TensorFlow Privacy and TensorFlow Federated. In June, the company open-sourced Private Join and Compute, which gives companies data insights while preserving privacy. To learn more about Google’s approach, check out the team’s technical paper on arXiv.\n",
    "'''"
   ]
  },
  {
   "cell_type": "code",
   "execution_count": 69,
   "id": "ac5c2b7f",
   "metadata": {},
   "outputs": [],
   "source": [
    "text = text.lower()\n",
    "for sep in '\\n\\n.,\"\\',“”()':\n",
    "    text = text.replace('sep',' ')\n",
    "\n",
    "\n",
    "words = text.split(' ')\n",
    "words = [word for word in words if word != '']"
   ]
  },
  {
   "cell_type": "code",
   "execution_count": 70,
   "id": "91265d2c",
   "metadata": {},
   "outputs": [
    {
     "data": {
      "text/plain": [
       "['google',\n",
       " 'today',\n",
       " 'released',\n",
       " 'the',\n",
       " 'open',\n",
       " 'source',\n",
       " 'version',\n",
       " 'of',\n",
       " 'the',\n",
       " 'differential',\n",
       " 'privacy',\n",
       " 'library',\n",
       " 'used',\n",
       " 'in',\n",
       " 'some',\n",
       " 'its',\n",
       " 'core',\n",
       " 'products,',\n",
       " 'such',\n",
       " 'as',\n",
       " 'google',\n",
       " 'maps.',\n",
       " 'any',\n",
       " 'organization',\n",
       " 'or',\n",
       " 'developer',\n",
       " 'can',\n",
       " 'now',\n",
       " 'check',\n",
       " 'out',\n",
       " 'the',\n",
       " 'library',\n",
       " 'on',\n",
       " 'github.',\n",
       " 'differential',\n",
       " 'privacy',\n",
       " 'limits',\n",
       " 'the',\n",
       " 'algorithms',\n",
       " 'used',\n",
       " 'to',\n",
       " 'publish',\n",
       " 'aggregate',\n",
       " 'information',\n",
       " 'about',\n",
       " 'a',\n",
       " 'statistical',\n",
       " 'database.',\n",
       " 'whether',\n",
       " 'you',\n",
       " 'are',\n",
       " 'a',\n",
       " 'city',\n",
       " 'planner,',\n",
       " 'small',\n",
       " 'business',\n",
       " 'owner,',\n",
       " 'or',\n",
       " 'software',\n",
       " 'developer,',\n",
       " 'chances',\n",
       " 'are',\n",
       " 'you',\n",
       " 'want',\n",
       " 'to',\n",
       " 'gain',\n",
       " 'insights',\n",
       " 'from',\n",
       " 'the',\n",
       " 'data',\n",
       " 'of',\n",
       " 'your',\n",
       " 'citizens,',\n",
       " 'customers,',\n",
       " 'or',\n",
       " 'users.',\n",
       " 'but',\n",
       " 'you',\n",
       " 'don’t',\n",
       " 'want',\n",
       " 'to',\n",
       " 'lose',\n",
       " 'their',\n",
       " 'trust',\n",
       " 'in',\n",
       " 'the',\n",
       " 'process.',\n",
       " 'differentially',\n",
       " 'private',\n",
       " 'data',\n",
       " 'analysis',\n",
       " 'enables',\n",
       " 'organizations',\n",
       " 'to',\n",
       " 'learn',\n",
       " 'from',\n",
       " 'the',\n",
       " 'majority',\n",
       " 'of',\n",
       " 'their',\n",
       " 'data',\n",
       " 'without',\n",
       " 'allowing',\n",
       " 'any',\n",
       " 'single',\n",
       " 'individual’s',\n",
       " 'data',\n",
       " 'to',\n",
       " 'be',\n",
       " 'distinguished',\n",
       " 'or',\n",
       " 're-identified.',\n",
       " '“if',\n",
       " 'you',\n",
       " 'are',\n",
       " 'a',\n",
       " 'health',\n",
       " 'researcher,',\n",
       " 'you',\n",
       " 'may',\n",
       " 'want',\n",
       " 'to',\n",
       " 'compare',\n",
       " 'the',\n",
       " 'average',\n",
       " 'amount',\n",
       " 'of',\n",
       " 'time',\n",
       " 'patients',\n",
       " 'remain',\n",
       " 'admitted',\n",
       " 'across',\n",
       " 'various',\n",
       " 'hospitals',\n",
       " 'in',\n",
       " 'order',\n",
       " 'to',\n",
       " 'determine',\n",
       " 'if',\n",
       " 'there',\n",
       " 'are',\n",
       " 'differences',\n",
       " 'in',\n",
       " 'care,”',\n",
       " 'google',\n",
       " 'product',\n",
       " 'manager',\n",
       " 'miguel',\n",
       " 'guevara',\n",
       " 'explains.',\n",
       " '“differential',\n",
       " 'privacy',\n",
       " 'is',\n",
       " 'a',\n",
       " 'high-assurance,',\n",
       " 'analytic',\n",
       " 'means',\n",
       " 'of',\n",
       " 'ensuring',\n",
       " 'that',\n",
       " 'use',\n",
       " 'cases',\n",
       " 'like',\n",
       " 'this',\n",
       " 'are',\n",
       " 'addressed',\n",
       " 'in',\n",
       " 'a',\n",
       " 'privacy-preserving',\n",
       " 'manner.”',\n",
       " 'differential',\n",
       " 'privacy',\n",
       " 'library',\n",
       " 'features',\n",
       " 'google',\n",
       " 'promises',\n",
       " 'its',\n",
       " 'library',\n",
       " 'is',\n",
       " 'easy',\n",
       " 'for',\n",
       " 'developers',\n",
       " 'to',\n",
       " 'deploy.',\n",
       " 'it',\n",
       " 'can',\n",
       " 'help',\n",
       " 'you',\n",
       " 'perform',\n",
       " 'functions',\n",
       " 'that',\n",
       " 'are',\n",
       " 'difficult',\n",
       " 'to',\n",
       " 'execute',\n",
       " 'from',\n",
       " 'scratch,',\n",
       " '“like',\n",
       " 'automatically',\n",
       " 'calculating',\n",
       " 'bounds',\n",
       " 'on',\n",
       " 'user',\n",
       " 'contributions,”',\n",
       " 'guevera',\n",
       " 'says.',\n",
       " 'key',\n",
       " 'features',\n",
       " 'include:',\n",
       " 'statistical',\n",
       " 'functions:',\n",
       " 'most',\n",
       " 'common',\n",
       " 'data',\n",
       " 'science',\n",
       " 'operations',\n",
       " '(counts,',\n",
       " 'sums,',\n",
       " 'averages,',\n",
       " 'medians,',\n",
       " 'and',\n",
       " 'percentiles)',\n",
       " 'are',\n",
       " 'supported.',\n",
       " 'rigorous',\n",
       " 'testing:',\n",
       " 'besides',\n",
       " 'an',\n",
       " 'extensive',\n",
       " 'test',\n",
       " 'suite,',\n",
       " 'an',\n",
       " 'extensible',\n",
       " '“stochastic',\n",
       " 'differential',\n",
       " 'privacy',\n",
       " 'model',\n",
       " 'checker',\n",
       " 'library”',\n",
       " 'helps',\n",
       " 'prevent',\n",
       " 'mistakes.',\n",
       " 'ready',\n",
       " 'to',\n",
       " 'use:',\n",
       " 'a',\n",
       " 'postgresql',\n",
       " 'extension,',\n",
       " 'along',\n",
       " 'with',\n",
       " 'common',\n",
       " 'recipes,',\n",
       " 'is',\n",
       " 'included.',\n",
       " 'modular:',\n",
       " 'the',\n",
       " 'library',\n",
       " 'can',\n",
       " 'be',\n",
       " 'extended',\n",
       " 'to',\n",
       " 'include',\n",
       " 'other',\n",
       " 'functionalities,',\n",
       " 'such',\n",
       " 'as',\n",
       " 'additional',\n",
       " 'mechanisms,',\n",
       " 'aggregation',\n",
       " 'functions,',\n",
       " 'or',\n",
       " 'privacy',\n",
       " 'budget',\n",
       " 'management.',\n",
       " 'this',\n",
       " 'isn’t',\n",
       " 'google’s',\n",
       " 'first',\n",
       " 'differential',\n",
       " 'privacy',\n",
       " 'rodeo,',\n",
       " 'but',\n",
       " 'the',\n",
       " 'company',\n",
       " 'has',\n",
       " 'been',\n",
       " 'particularly',\n",
       " 'busy',\n",
       " 'in',\n",
       " 'the',\n",
       " 'space',\n",
       " 'this',\n",
       " 'ythis',\n",
       " 'isn’t',\n",
       " 'google’s',\n",
       " 'first',\n",
       " 'differential',\n",
       " 'privacy',\n",
       " 'rodeo,',\n",
       " 'but',\n",
       " 'the',\n",
       " 'company',\n",
       " 'has',\n",
       " 'been',\n",
       " 'particularly',\n",
       " 'busy',\n",
       " 'in',\n",
       " 'the',\n",
       " 'space',\n",
       " 'this',\n",
       " 'year.',\n",
       " 'in',\n",
       " 'march,',\n",
       " 'google',\n",
       " 'released',\n",
       " 'tensorflow',\n",
       " 'privacy',\n",
       " 'and',\n",
       " 'tensorflow',\n",
       " 'federated.',\n",
       " 'in',\n",
       " 'june,',\n",
       " 'the',\n",
       " 'company',\n",
       " 'open-sourced',\n",
       " 'private',\n",
       " 'join',\n",
       " 'and',\n",
       " 'compute,',\n",
       " 'which',\n",
       " 'gives',\n",
       " 'companies',\n",
       " 'data',\n",
       " 'insights',\n",
       " 'while',\n",
       " 'preserving',\n",
       " 'privacy.',\n",
       " 'to',\n",
       " 'learn',\n",
       " 'more',\n",
       " 'about',\n",
       " 'google’s',\n",
       " 'approach,',\n",
       " 'check',\n",
       " 'out',\n",
       " 'the',\n",
       " 'team’s',\n",
       " 'technical',\n",
       " 'paper',\n",
       " 'on',\n",
       " 'arxiv.']"
      ]
     },
     "execution_count": 70,
     "metadata": {},
     "output_type": "execute_result"
    }
   ],
   "source": [
    "words"
   ]
  },
  {
   "cell_type": "code",
   "execution_count": 71,
   "id": "8ba6a53e",
   "metadata": {},
   "outputs": [
    {
     "name": "stdout",
     "output_type": "stream",
     "text": [
      "{'google': 5, 'today': 1, 'released': 2, 'the': 15, 'open': 1, 'source': 1, 'version': 1, 'of': 5, 'differential': 6, 'privacy': 9, 'library': 5, 'used': 2, 'in': 9, 'some': 1, 'its': 2, 'core': 1, 'products,': 1, 'such': 2, 'as': 2, 'maps.': 1, 'any': 2, 'organization': 1, 'or': 5, 'developer': 1, 'can': 3, 'now': 1, 'check': 2, 'out': 2, 'on': 3, 'github.': 1, 'limits': 1, 'algorithms': 1, 'to': 12, 'publish': 1, 'aggregate': 1, 'information': 1, 'about': 2, 'a': 6, 'statistical': 2, 'database.': 1, 'whether': 1, 'you': 6, 'are': 7, 'city': 1, 'planner,': 1, 'small': 1, 'business': 1, 'owner,': 1, 'software': 1, 'developer,': 1, 'chances': 1, 'want': 3, 'gain': 1, 'insights': 2, 'from': 3, 'data': 6, 'your': 1, 'citizens,': 1, 'customers,': 1, 'users.': 1, 'but': 3, 'don’t': 1, 'lose': 1, 'their': 2, 'trust': 1, 'process.': 1, 'differentially': 1, 'private': 2, 'analysis': 1, 'enables': 1, 'organizations': 1, 'learn': 2, 'majority': 1, 'without': 1, 'allowing': 1, 'single': 1, 'individual’s': 1, 'be': 2, 'distinguished': 1, 're-identified.': 1, '“if': 1, 'health': 1, 'researcher,': 1, 'may': 1, 'compare': 1, 'average': 1, 'amount': 1, 'time': 1, 'patients': 1, 'remain': 1, 'admitted': 1, 'across': 1, 'various': 1, 'hospitals': 1, 'order': 1, 'determine': 1, 'if': 1, 'there': 1, 'differences': 1, 'care,”': 1, 'product': 1, 'manager': 1, 'miguel': 1, 'guevara': 1, 'explains.': 1, '“differential': 1, 'is': 3, 'high-assurance,': 1, 'analytic': 1, 'means': 1, 'ensuring': 1, 'that': 2, 'use': 1, 'cases': 1, 'like': 1, 'this': 4, 'addressed': 1, 'privacy-preserving': 1, 'manner.”': 1, 'features': 2, 'promises': 1, 'easy': 1, 'for': 1, 'developers': 1, 'deploy.': 1, 'it': 1, 'help': 1, 'perform': 1, 'functions': 1, 'difficult': 1, 'execute': 1, 'scratch,': 1, '“like': 1, 'automatically': 1, 'calculating': 1, 'bounds': 1, 'user': 1, 'contributions,”': 1, 'guevera': 1, 'says.': 1, 'key': 1, 'include:': 1, 'functions:': 1, 'most': 1, 'common': 2, 'science': 1, 'operations': 1, '(counts,': 1, 'sums,': 1, 'averages,': 1, 'medians,': 1, 'and': 3, 'percentiles)': 1, 'supported.': 1, 'rigorous': 1, 'testing:': 1, 'besides': 1, 'an': 2, 'extensive': 1, 'test': 1, 'suite,': 1, 'extensible': 1, '“stochastic': 1, 'model': 1, 'checker': 1, 'library”': 1, 'helps': 1, 'prevent': 1, 'mistakes.': 1, 'ready': 1, 'use:': 1, 'postgresql': 1, 'extension,': 1, 'along': 1, 'with': 1, 'recipes,': 1, 'included.': 1, 'modular:': 1, 'extended': 1, 'include': 1, 'other': 1, 'functionalities,': 1, 'additional': 1, 'mechanisms,': 1, 'aggregation': 1, 'functions,': 1, 'budget': 1, 'management.': 1, 'isn’t': 2, 'google’s': 3, 'first': 2, 'rodeo,': 2, 'company': 3, 'has': 2, 'been': 2, 'particularly': 2, 'busy': 2, 'space': 2, 'ythis': 1, 'year.': 1, 'march,': 1, 'tensorflow': 2, 'federated.': 1, 'june,': 1, 'open-sourced': 1, 'join': 1, 'compute,': 1, 'which': 1, 'gives': 1, 'companies': 1, 'while': 1, 'preserving': 1, 'privacy.': 1, 'more': 1, 'approach,': 1, 'team’s': 1, 'technical': 1, 'paper': 1, 'arxiv.': 1}\n"
     ]
    }
   ],
   "source": [
    "count = {}\n",
    "for word in words:\n",
    "    count.setdefault(word,0)\n",
    "    count[word] += 1\n",
    "print(count)"
   ]
  },
  {
   "cell_type": "code",
   "execution_count": 72,
   "id": "e980edc8",
   "metadata": {},
   "outputs": [],
   "source": [
    "words_by_count = dict()\n",
    "for word in count.keys():\n",
    "    words_by_count.setdefault(count[word],[])\n",
    "    words_by_count[count[word]].append(word)"
   ]
  },
  {
   "cell_type": "code",
   "execution_count": 73,
   "id": "acf6a884",
   "metadata": {},
   "outputs": [
    {
     "data": {
      "text/plain": [
       "{5: ['google', 'of', 'library', 'or'],\n",
       " 1: ['today',\n",
       "  'open',\n",
       "  'source',\n",
       "  'version',\n",
       "  'some',\n",
       "  'core',\n",
       "  'products,',\n",
       "  'maps.',\n",
       "  'organization',\n",
       "  'developer',\n",
       "  'now',\n",
       "  'github.',\n",
       "  'limits',\n",
       "  'algorithms',\n",
       "  'publish',\n",
       "  'aggregate',\n",
       "  'information',\n",
       "  'database.',\n",
       "  'whether',\n",
       "  'city',\n",
       "  'planner,',\n",
       "  'small',\n",
       "  'business',\n",
       "  'owner,',\n",
       "  'software',\n",
       "  'developer,',\n",
       "  'chances',\n",
       "  'gain',\n",
       "  'your',\n",
       "  'citizens,',\n",
       "  'customers,',\n",
       "  'users.',\n",
       "  'don’t',\n",
       "  'lose',\n",
       "  'trust',\n",
       "  'process.',\n",
       "  'differentially',\n",
       "  'analysis',\n",
       "  'enables',\n",
       "  'organizations',\n",
       "  'majority',\n",
       "  'without',\n",
       "  'allowing',\n",
       "  'single',\n",
       "  'individual’s',\n",
       "  'distinguished',\n",
       "  're-identified.',\n",
       "  '“if',\n",
       "  'health',\n",
       "  'researcher,',\n",
       "  'may',\n",
       "  'compare',\n",
       "  'average',\n",
       "  'amount',\n",
       "  'time',\n",
       "  'patients',\n",
       "  'remain',\n",
       "  'admitted',\n",
       "  'across',\n",
       "  'various',\n",
       "  'hospitals',\n",
       "  'order',\n",
       "  'determine',\n",
       "  'if',\n",
       "  'there',\n",
       "  'differences',\n",
       "  'care,”',\n",
       "  'product',\n",
       "  'manager',\n",
       "  'miguel',\n",
       "  'guevara',\n",
       "  'explains.',\n",
       "  '“differential',\n",
       "  'high-assurance,',\n",
       "  'analytic',\n",
       "  'means',\n",
       "  'ensuring',\n",
       "  'use',\n",
       "  'cases',\n",
       "  'like',\n",
       "  'addressed',\n",
       "  'privacy-preserving',\n",
       "  'manner.”',\n",
       "  'promises',\n",
       "  'easy',\n",
       "  'for',\n",
       "  'developers',\n",
       "  'deploy.',\n",
       "  'it',\n",
       "  'help',\n",
       "  'perform',\n",
       "  'functions',\n",
       "  'difficult',\n",
       "  'execute',\n",
       "  'scratch,',\n",
       "  '“like',\n",
       "  'automatically',\n",
       "  'calculating',\n",
       "  'bounds',\n",
       "  'user',\n",
       "  'contributions,”',\n",
       "  'guevera',\n",
       "  'says.',\n",
       "  'key',\n",
       "  'include:',\n",
       "  'functions:',\n",
       "  'most',\n",
       "  'science',\n",
       "  'operations',\n",
       "  '(counts,',\n",
       "  'sums,',\n",
       "  'averages,',\n",
       "  'medians,',\n",
       "  'percentiles)',\n",
       "  'supported.',\n",
       "  'rigorous',\n",
       "  'testing:',\n",
       "  'besides',\n",
       "  'extensive',\n",
       "  'test',\n",
       "  'suite,',\n",
       "  'extensible',\n",
       "  '“stochastic',\n",
       "  'model',\n",
       "  'checker',\n",
       "  'library”',\n",
       "  'helps',\n",
       "  'prevent',\n",
       "  'mistakes.',\n",
       "  'ready',\n",
       "  'use:',\n",
       "  'postgresql',\n",
       "  'extension,',\n",
       "  'along',\n",
       "  'with',\n",
       "  'recipes,',\n",
       "  'included.',\n",
       "  'modular:',\n",
       "  'extended',\n",
       "  'include',\n",
       "  'other',\n",
       "  'functionalities,',\n",
       "  'additional',\n",
       "  'mechanisms,',\n",
       "  'aggregation',\n",
       "  'functions,',\n",
       "  'budget',\n",
       "  'management.',\n",
       "  'ythis',\n",
       "  'year.',\n",
       "  'march,',\n",
       "  'federated.',\n",
       "  'june,',\n",
       "  'open-sourced',\n",
       "  'join',\n",
       "  'compute,',\n",
       "  'which',\n",
       "  'gives',\n",
       "  'companies',\n",
       "  'while',\n",
       "  'preserving',\n",
       "  'privacy.',\n",
       "  'more',\n",
       "  'approach,',\n",
       "  'team’s',\n",
       "  'technical',\n",
       "  'paper',\n",
       "  'arxiv.'],\n",
       " 2: ['released',\n",
       "  'used',\n",
       "  'its',\n",
       "  'such',\n",
       "  'as',\n",
       "  'any',\n",
       "  'check',\n",
       "  'out',\n",
       "  'about',\n",
       "  'statistical',\n",
       "  'insights',\n",
       "  'their',\n",
       "  'private',\n",
       "  'learn',\n",
       "  'be',\n",
       "  'that',\n",
       "  'features',\n",
       "  'common',\n",
       "  'an',\n",
       "  'isn’t',\n",
       "  'first',\n",
       "  'rodeo,',\n",
       "  'has',\n",
       "  'been',\n",
       "  'particularly',\n",
       "  'busy',\n",
       "  'space',\n",
       "  'tensorflow'],\n",
       " 15: ['the'],\n",
       " 6: ['differential', 'a', 'you', 'data'],\n",
       " 9: ['privacy', 'in'],\n",
       " 3: ['can', 'on', 'want', 'from', 'but', 'is', 'and', 'google’s', 'company'],\n",
       " 12: ['to'],\n",
       " 7: ['are'],\n",
       " 4: ['this']}"
      ]
     },
     "execution_count": 73,
     "metadata": {},
     "output_type": "execute_result"
    }
   ],
   "source": [
    "words_by_count"
   ]
  },
  {
   "cell_type": "code",
   "execution_count": 80,
   "id": "a0d1f261",
   "metadata": {},
   "outputs": [
    {
     "name": "stdout",
     "output_type": "stream",
     "text": [
      "Count 15 the \n",
      "Count 12 to \n",
      "Count 9 privacy in \n",
      "Count 7 are \n",
      "Count 6 differential a you data \n",
      "Count 5 google of library or \n",
      "Count 4 this \n",
      "Count 3 can on want from but is and google’s company \n",
      "Count 2 released used its such as any check out about statistical insights their private learn be that features common an isn’t first rodeo, has been particularly busy space tensorflow \n",
      "Count 1 today open source version some core products, maps. organization developer now github. limits algorithms publish aggregate information database. whether city planner, small business owner, software developer, chances gain your citizens, customers, users. don’t lose trust process. differentially analysis enables organizations majority without allowing single individual’s distinguished re-identified. “if health researcher, may compare average amount time patients remain admitted across various hospitals order determine if there differences care,” product manager miguel guevara explains. “differential high-assurance, analytic means ensuring use cases like addressed privacy-preserving manner.” promises easy for developers deploy. it help perform functions difficult execute scratch, “like automatically calculating bounds user contributions,” guevera says. key include: functions: most science operations (counts, sums, averages, medians, percentiles) supported. rigorous testing: besides extensive test suite, extensible “stochastic model checker library” helps prevent mistakes. ready use: postgresql extension, along with recipes, included. modular: extended include other functionalities, additional mechanisms, aggregation functions, budget management. ythis year. march, federated. june, open-sourced join compute, which gives companies while preserving privacy. more approach, team’s technical paper arxiv. \n"
     ]
    }
   ],
   "source": [
    "for item in sorted(words_by_count.keys(),reverse=True):\n",
    "    print(f'Count {item}',end=' ')\n",
    "    for word in words_by_count[item]:\n",
    "        print(word ,end=' ')\n",
    "    print('')"
   ]
  },
  {
   "cell_type": "code",
   "execution_count": 84,
   "id": "9f0019fb",
   "metadata": {},
   "outputs": [
    {
     "data": {
      "image/png": "[encoded data removed]",
      "text/plain": [
       "<Figure size 720x2880 with 1 Axes>"
      ]
     },
     "metadata": {
      "needs_background": "light"
     },
     "output_type": "display_data"
    }
   ],
   "source": [
    "import matplotlib.pyplot as plt\n",
    "words = [w for w in count.keys()]\n",
    "counts = [count[w] for w in words]\n",
    "fig = plt.figure(figsize=(10,40))\n",
    "ax = fig.subplots()\n",
    "plt.barh(words,counts)\n",
    "plt.show()"
   ]
  },
  {
   "cell_type": "code",
   "execution_count": 85,
   "id": "02ec987e",
   "metadata": {},
   "outputs": [],
   "source": [
    "x, y = 1, 2"
   ]
  },
  {
   "cell_type": "code",
   "execution_count": 86,
   "id": "6c7a1cc1",
   "metadata": {},
   "outputs": [
    {
     "name": "stdout",
     "output_type": "stream",
     "text": [
      "1 2\n"
     ]
    }
   ],
   "source": [
    "print(x,y)"
   ]
  },
  {
   "cell_type": "code",
   "execution_count": 87,
   "id": "b16292fb",
   "metadata": {},
   "outputs": [],
   "source": [
    "x, y = y, x"
   ]
  },
  {
   "cell_type": "code",
   "execution_count": 88,
   "id": "a6935929",
   "metadata": {},
   "outputs": [
    {
     "name": "stdout",
     "output_type": "stream",
     "text": [
      "2 1\n"
     ]
    }
   ],
   "source": [
    "print(x,y)"
   ]
  },
  {
   "cell_type": "code",
   "execution_count": 89,
   "id": "b2b5ab27",
   "metadata": {},
   "outputs": [],
   "source": [
    "x, y = (1, 2)"
   ]
  },
  {
   "cell_type": "code",
   "execution_count": 90,
   "id": "8fbd2544",
   "metadata": {},
   "outputs": [
    {
     "name": "stdout",
     "output_type": "stream",
     "text": [
      "1 2\n"
     ]
    }
   ],
   "source": [
    "print(x,y)"
   ]
  },
  {
   "cell_type": "code",
   "execution_count": 91,
   "id": "2e3351e2",
   "metadata": {},
   "outputs": [
    {
     "ename": "ValueError",
     "evalue": "too many values to unpack (expected 3)",
     "output_type": "error",
     "traceback": [
      "\u001b[1;31m---------------------------------------------------------------------------\u001b[0m",
      "\u001b[1;31mValueError\u001b[0m                                Traceback (most recent call last)",
      "\u001b[1;32m~\\AppData\\Local\\Temp/ipykernel_20116/2476705854.py\u001b[0m in \u001b[0;36m<module>\u001b[1;34m\u001b[0m\n\u001b[1;32m----> 1\u001b[1;33m \u001b[0mx\u001b[0m\u001b[1;33m,\u001b[0m \u001b[0my\u001b[0m\u001b[1;33m,\u001b[0m \u001b[0mz\u001b[0m \u001b[1;33m=\u001b[0m \u001b[1;33m(\u001b[0m\u001b[1;36m1\u001b[0m\u001b[1;33m,\u001b[0m\u001b[1;36m2\u001b[0m\u001b[1;33m,\u001b[0m\u001b[1;36m3\u001b[0m\u001b[1;33m,\u001b[0m\u001b[1;36m4\u001b[0m\u001b[1;33m)\u001b[0m\u001b[1;33m\u001b[0m\u001b[1;33m\u001b[0m\u001b[0m\n\u001b[0m",
      "\u001b[1;31mValueError\u001b[0m: too many values to unpack (expected 3)"
     ]
    }
   ],
   "source": [
    "x, y, z = (1,2,3,4)"
   ]
  },
  {
   "cell_type": "code",
   "execution_count": 92,
   "id": "4797ae2c",
   "metadata": {},
   "outputs": [],
   "source": [
    "x, y, *z = (1,2,3,4)"
   ]
  },
  {
   "cell_type": "code",
   "execution_count": 93,
   "id": "6eaab0ea",
   "metadata": {},
   "outputs": [
    {
     "name": "stdout",
     "output_type": "stream",
     "text": [
      "1 2 [3, 4]\n"
     ]
    }
   ],
   "source": [
    "print(x,y,z)"
   ]
  },
  {
   "cell_type": "code",
   "execution_count": 94,
   "id": "6478d57a",
   "metadata": {},
   "outputs": [],
   "source": [
    "x, *y, z = (1,2,3,4)"
   ]
  },
  {
   "cell_type": "code",
   "execution_count": 95,
   "id": "69fb6141",
   "metadata": {},
   "outputs": [
    {
     "name": "stdout",
     "output_type": "stream",
     "text": [
      "1 [2, 3] 4\n"
     ]
    }
   ],
   "source": [
    "print(x,y,z)"
   ]
  },
  {
   "cell_type": "code",
   "execution_count": 98,
   "id": "8d802dfb",
   "metadata": {},
   "outputs": [
    {
     "name": "stdout",
     "output_type": "stream",
     "text": [
      "[4] [4] [4]\n"
     ]
    }
   ],
   "source": [
    "x = y = z = [3]\n",
    "x[0] = 4\n",
    "print(x,y,z)"
   ]
  },
  {
   "cell_type": "code",
   "execution_count": 97,
   "id": "3fd78828",
   "metadata": {},
   "outputs": [
    {
     "name": "stdout",
     "output_type": "stream",
     "text": [
      "3 3 3\n"
     ]
    }
   ],
   "source": [
    "print(x,y,z)"
   ]
  },
  {
   "cell_type": "code",
   "execution_count": 99,
   "id": "f4724e8d",
   "metadata": {},
   "outputs": [
    {
     "name": "stdout",
     "output_type": "stream",
     "text": [
      "[4] [3]\n"
     ]
    }
   ],
   "source": [
    "x = [3]\n",
    "y = [3]\n",
    "x[0] = 4\n",
    "print(x,y)"
   ]
  },
  {
   "cell_type": "code",
   "execution_count": 100,
   "id": "cbf3fae2",
   "metadata": {},
   "outputs": [
    {
     "data": {
      "text/plain": [
       "False"
      ]
     },
     "execution_count": 100,
     "metadata": {},
     "output_type": "execute_result"
    }
   ],
   "source": [
    "x is y"
   ]
  },
  {
   "cell_type": "code",
   "execution_count": 101,
   "id": "d2c9367f",
   "metadata": {},
   "outputs": [
    {
     "data": {
      "text/plain": [
       "True"
      ]
     },
     "execution_count": 101,
     "metadata": {},
     "output_type": "execute_result"
    }
   ],
   "source": [
    "x = 3\n",
    "y = 3\n",
    "x is y"
   ]
  },
  {
   "cell_type": "code",
   "execution_count": 102,
   "id": "fda94fe4",
   "metadata": {},
   "outputs": [
    {
     "data": {
      "text/plain": [
       "int"
      ]
     },
     "execution_count": 102,
     "metadata": {},
     "output_type": "execute_result"
    }
   ],
   "source": [
    "type(x)"
   ]
  },
  {
   "cell_type": "code",
   "execution_count": 103,
   "id": "ae662738",
   "metadata": {},
   "outputs": [
    {
     "data": {
      "text/plain": [
       "False"
      ]
     },
     "execution_count": 103,
     "metadata": {},
     "output_type": "execute_result"
    }
   ],
   "source": [
    "x = (3,)\n",
    "y = (3,)\n",
    "x is y"
   ]
  },
  {
   "cell_type": "code",
   "execution_count": 104,
   "id": "bc43b492",
   "metadata": {},
   "outputs": [
    {
     "data": {
      "text/plain": [
       "True"
      ]
     },
     "execution_count": 104,
     "metadata": {},
     "output_type": "execute_result"
    }
   ],
   "source": [
    "x = y = (3,)\n",
    "x is y"
   ]
  },
  {
   "cell_type": "code",
   "execution_count": 106,
   "id": "6a07a312",
   "metadata": {},
   "outputs": [
    {
     "data": {
      "text/plain": [
       "True"
      ]
     },
     "execution_count": 106,
     "metadata": {},
     "output_type": "execute_result"
    }
   ],
   "source": [
    "bool(\"s\")"
   ]
  },
  {
   "cell_type": "code",
   "execution_count": 108,
   "id": "cced8c90",
   "metadata": {},
   "outputs": [
    {
     "data": {
      "text/plain": [
       "False"
      ]
     },
     "execution_count": 108,
     "metadata": {},
     "output_type": "execute_result"
    }
   ],
   "source": [
    "bool([])"
   ]
  },
  {
   "cell_type": "code",
   "execution_count": 109,
   "id": "af6c9467",
   "metadata": {},
   "outputs": [
    {
     "name": "stderr",
     "output_type": "stream",
     "text": [
      "<>:1: SyntaxWarning: \"is\" with a literal. Did you mean \"==\"?\n",
      "<>:1: SyntaxWarning: \"is\" with a literal. Did you mean \"==\"?\n",
      "C:\\Users\\wang\\AppData\\Local\\Temp/ipykernel_20116/1970757598.py:1: SyntaxWarning: \"is\" with a literal. Did you mean \"==\"?\n",
      "  \"s\" is True\n"
     ]
    },
    {
     "data": {
      "text/plain": [
       "False"
      ]
     },
     "execution_count": 109,
     "metadata": {},
     "output_type": "execute_result"
    }
   ],
   "source": [
    "\"s\" is True"
   ]
  },
  {
   "cell_type": "code",
   "execution_count": 110,
   "id": "50ffa8ce",
   "metadata": {},
   "outputs": [
    {
     "data": {
      "text/plain": [
       "True"
      ]
     },
     "execution_count": 110,
     "metadata": {},
     "output_type": "execute_result"
    }
   ],
   "source": [
    "bool(\"s\") is True"
   ]
  },
  {
   "cell_type": "code",
   "execution_count": 111,
   "id": "bee02ee2",
   "metadata": {},
   "outputs": [
    {
     "data": {
      "text/plain": [
       "2"
      ]
     },
     "execution_count": 111,
     "metadata": {},
     "output_type": "execute_result"
    }
   ],
   "source": [
    "1+True"
   ]
  },
  {
   "cell_type": "code",
   "execution_count": 112,
   "id": "7c6a5ab0",
   "metadata": {},
   "outputs": [
    {
     "data": {
      "text/plain": [
       "1"
      ]
     },
     "execution_count": 112,
     "metadata": {},
     "output_type": "execute_result"
    }
   ],
   "source": [
    "1+False"
   ]
  },
  {
   "cell_type": "code",
   "execution_count": null,
   "id": "13ce54d8",
   "metadata": {},
   "outputs": [],
   "source": []
  }
 ],
 "metadata": {
  "kernelspec": {
   "display_name": "Python 3 (ipykernel)",
   "language": "python",
   "name": "python3"
  },
  "language_info": {
   "codemirror_mode": {
    "name": "ipython",
    "version": 3
   },
   "file_extension": ".py",
   "mimetype": "text/x-python",
   "name": "python",
   "nbconvert_exporter": "python",
   "pygments_lexer": "ipython3",
   "version": "3.9.7"
  }
 },
 "nbformat": 4,
 "nbformat_minor": 5
}
